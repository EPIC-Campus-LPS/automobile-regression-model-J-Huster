{
 "cells": [
  {
   "cell_type": "markdown",
   "metadata": {},
   "source": [
    "# Project 2.1: Modeling the Price of Vehicles\n",
    "## Part 2: Exploratory Data Analysis with Automobile Dataset\n",
    "\n",
    "For this dataset, we will try to build a model to determine the price of a vehicle. For this lab, we will complete the data cleaning and exploratory data analysis required to build our model. Cleaning the dataset and identifying features which relate to vehicle price is critical to building a model to answer our question. A future lab will use our findings here to actually create the model. This notebook contains part 2 of this lab and is worth 6 points.\n",
    "\n",
    "**Rubric**\n",
    "- 6 pts - Contains all required components and uses professional language\n",
    "- 5 pts - Contains all required components, but uses unprofessional language, formating, etc.\n",
    "- 4 pts - Contains some, but not all, of the required components\n",
    "- 3 pts - Did not submit\n",
    "\n",
    "**This is the second part of the lab, please complete part 1 first.**"
   ]
  },
  {
   "cell_type": "markdown",
   "metadata": {},
   "source": [
    "## Getting the data \n",
    "Import `pandas` and use `.read_csv()` to create your dataframe from the CSV you just cleaned. Print the first 10 rows to make sure you have the right dataframe. If you are concerned your data has not been cleaned correctly, use `auto_cleaned.csv` provided in the GitHub."
   ]
  },
  {
   "cell_type": "code",
   "execution_count": 2,
   "metadata": {},
   "outputs": [],
   "source": [
    "import pandas as pd\n",
    "df = pd.read_csv(\"auto_cleaned.csv\")"
   ]
  },
  {
   "cell_type": "markdown",
   "metadata": {},
   "source": [
    "## Exploratory Data Analysis\n",
    "\n",
    "The question we want to investigate is:  **What are the main characteristics that have the most impact on the car price?**\n",
    "\n",
    "To do so, let's look at some of our different features. \n",
    "\n",
    "For this lab, we will use the library  `seaborn` in addition to `matplotlib.pyplot` and `numpy`. This will allow use to make plots of the relationship between variables, and see the variability on our plots on the same graph. seaborn is built on matplotlib and the two libraries interact. Typically, we import seaborn as `sns`."
   ]
  },
  {
   "cell_type": "code",
   "execution_count": 3,
   "metadata": {},
   "outputs": [],
   "source": [
    "import seaborn as sns\n",
    "import matplotlib.pyplot as plt\n",
    "import numpy as np"
   ]
  },
  {
   "cell_type": "markdown",
   "metadata": {},
   "source": [
    "### How to choose the right visualization method?\n",
    "When visualizing individual variables, it is important to first understand what type of variable you are dealing with. This will help us find the right visualization method for that variable. Remember `.dtypes` from the last notebook."
   ]
  },
  {
   "cell_type": "code",
   "execution_count": 4,
   "metadata": {},
   "outputs": [
    {
     "name": "stdout",
     "output_type": "stream",
     "text": [
      "int64\n",
      "int64\n",
      "float64\n",
      "object\n",
      "object\n",
      "object\n",
      "object\n",
      "object\n",
      "float64\n",
      "float64\n",
      "float64\n",
      "float64\n",
      "int64\n",
      "object\n",
      "object\n",
      "int64\n",
      "object\n",
      "float64\n",
      "float64\n",
      "float64\n",
      "int64\n",
      "float64\n",
      "int64\n",
      "int64\n",
      "int64\n",
      "float64\n",
      "float64\n",
      "object\n",
      "bool\n",
      "bool\n",
      "bool\n",
      "bool\n"
     ]
    }
   ],
   "source": [
    "for column in df:\n",
    "    print(np.dtype(df[column]))"
   ]
  },
  {
   "cell_type": "markdown",
   "metadata": {},
   "source": [
    "We can calculate the correlation between variables  of type \"int64\" or \"float64\" using the pandas method `.corr()`. *This should automatically ignore non-numeric columns, but if it doesn't you can create a dataframe of only numeric columns with `df.select_dtypes(include=['int', 'float'])`*"
   ]
  },
  {
   "cell_type": "code",
   "execution_count": 5,
   "metadata": {},
   "outputs": [],
   "source": [
    "df_num = df.select_dtypes(include=['int', 'float'])"
   ]
  },
  {
   "cell_type": "markdown",
   "metadata": {},
   "source": [
    "The diagonal elements are always one; we will study correlation more precisely Pearson correlation in-depth at the end of the notebook. The basic idea is that a **correlation coefficient** is a numerical measure of the linear relationship between two variables. 1 is the strongest possible positive correlation, -1 is the strongest possible negative correlation, and 0 is no correlation.\n",
    "\n",
    "Find the correlation between the following columns: `bore`, `stroke`, `compression-ratio`, and `horsepower`. *Hint: if you would like to select those columns, use the following syntax: `df[['bore','stroke','compression-ratio','horsepower']]`*"
   ]
  },
  {
   "cell_type": "code",
   "execution_count": 6,
   "metadata": {},
   "outputs": [
    {
     "data": {
      "text/html": [
       "<div>\n",
       "<style scoped>\n",
       "    .dataframe tbody tr th:only-of-type {\n",
       "        vertical-align: middle;\n",
       "    }\n",
       "\n",
       "    .dataframe tbody tr th {\n",
       "        vertical-align: top;\n",
       "    }\n",
       "\n",
       "    .dataframe thead th {\n",
       "        text-align: right;\n",
       "    }\n",
       "</style>\n",
       "<table border=\"1\" class=\"dataframe\">\n",
       "  <thead>\n",
       "    <tr style=\"text-align: right;\">\n",
       "      <th></th>\n",
       "      <th>bore</th>\n",
       "      <th>stroke</th>\n",
       "      <th>compression-ratio</th>\n",
       "      <th>horsepower</th>\n",
       "    </tr>\n",
       "  </thead>\n",
       "  <tbody>\n",
       "    <tr>\n",
       "      <th>bore</th>\n",
       "      <td>1.000000</td>\n",
       "      <td>-0.051087</td>\n",
       "      <td>0.002021</td>\n",
       "      <td>0.566690</td>\n",
       "    </tr>\n",
       "    <tr>\n",
       "      <th>stroke</th>\n",
       "      <td>-0.051087</td>\n",
       "      <td>1.000000</td>\n",
       "      <td>0.186761</td>\n",
       "      <td>0.100351</td>\n",
       "    </tr>\n",
       "    <tr>\n",
       "      <th>compression-ratio</th>\n",
       "      <td>0.002021</td>\n",
       "      <td>0.186761</td>\n",
       "      <td>1.000000</td>\n",
       "      <td>-0.214162</td>\n",
       "    </tr>\n",
       "    <tr>\n",
       "      <th>horsepower</th>\n",
       "      <td>0.566690</td>\n",
       "      <td>0.100351</td>\n",
       "      <td>-0.214162</td>\n",
       "      <td>1.000000</td>\n",
       "    </tr>\n",
       "  </tbody>\n",
       "</table>\n",
       "</div>"
      ],
      "text/plain": [
       "                       bore    stroke  compression-ratio  horsepower\n",
       "bore               1.000000 -0.051087           0.002021    0.566690\n",
       "stroke            -0.051087  1.000000           0.186761    0.100351\n",
       "compression-ratio  0.002021  0.186761           1.000000   -0.214162\n",
       "horsepower         0.566690  0.100351          -0.214162    1.000000"
      ]
     },
     "execution_count": 6,
     "metadata": {},
     "output_type": "execute_result"
    }
   ],
   "source": [
    "df[['bore', 'stroke', 'compression-ratio', 'horsepower']].corr()"
   ]
  },
  {
   "cell_type": "markdown",
   "metadata": {},
   "source": [
    "#### Continuous numerical variables\n",
    "\n",
    "Continuous numerical variables are variables that may contain any value within some range. They can be of type \"int64\" or \"float64\". A great way to visualize these variables is by using scatterplots with fitted lines.\n",
    "\n",
    "In order to start understanding the (linear) relationship between an individual variable and the price, we can use `regplot` which plots the scatterplot plus the fitted regression line for the data. This will be useful later on for visualizing the fit of the simple linear regression model we will build in the next lab as well. \n",
    "\n",
    "Let's see several examples of different linear relationships.\n",
    "\n",
    "\n",
    "**Strong Linear Relationship**\n",
    "Let's make the scatterplot of `engine-size` and `price`. We are going to use seaborn's `regplot()` like this:\n",
    "`sns.regplot(x=\"engine-size\", y=\"price\", data=df)`. Use the `plt` functions we know to start the y axis at 0 and add a title and axis labels."
   ]
  },
  {
   "cell_type": "code",
   "execution_count": 7,
   "metadata": {},
   "outputs": [
    {
     "data": {
      "text/plain": [
       "Text(0.5, 1.0, 'Relationship between Price and Engine Size')"
      ]
     },
     "execution_count": 7,
     "metadata": {},
     "output_type": "execute_result"
    },
    {
     "data": {
      "image/png": "[encoded data removed]",
      "text/plain": [
       "<Figure size 640x480 with 1 Axes>"
      ]
     },
     "metadata": {},
     "output_type": "display_data"
    }
   ],
   "source": [
    "sns.regplot(x='engine-size', y='price', data=df)\n",
    "plt.xlabel('Engine Size')\n",
    "plt.ylabel('Price')\n",
    "plt.ylim(bottom=0, top = 50000)\n",
    "plt.title('Relationship between Price and Engine Size')"
   ]
  },
  {
   "cell_type": "markdown",
   "metadata": {},
   "source": [
    "As the engine-size goes up, the price goes up: this indicates a **strong positive correlation** between these two variables. Engine size seems like a pretty good predictor of price since the regression line is almost a perfect diagonal line.\n",
    "\n",
    "We can examine the correlation between 'engine-size' and 'price' and see that it's approximately 0.87 with `corr()`."
   ]
  },
  {
   "cell_type": "code",
   "execution_count": 8,
   "metadata": {},
   "outputs": [
    {
     "data": {
      "text/html": [
       "<div>\n",
       "<style scoped>\n",
       "    .dataframe tbody tr th:only-of-type {\n",
       "        vertical-align: middle;\n",
       "    }\n",
       "\n",
       "    .dataframe tbody tr th {\n",
       "        vertical-align: top;\n",
       "    }\n",
       "\n",
       "    .dataframe thead th {\n",
       "        text-align: right;\n",
       "    }\n",
       "</style>\n",
       "<table border=\"1\" class=\"dataframe\">\n",
       "  <thead>\n",
       "    <tr style=\"text-align: right;\">\n",
       "      <th></th>\n",
       "      <th>engine-size</th>\n",
       "      <th>price</th>\n",
       "    </tr>\n",
       "  </thead>\n",
       "  <tbody>\n",
       "    <tr>\n",
       "      <th>engine-size</th>\n",
       "      <td>1.000000</td>\n",
       "      <td>0.872337</td>\n",
       "    </tr>\n",
       "    <tr>\n",
       "      <th>price</th>\n",
       "      <td>0.872337</td>\n",
       "      <td>1.000000</td>\n",
       "    </tr>\n",
       "  </tbody>\n",
       "</table>\n",
       "</div>"
      ],
      "text/plain": [
       "             engine-size     price\n",
       "engine-size     1.000000  0.872337\n",
       "price           0.872337  1.000000"
      ]
     },
     "execution_count": 8,
     "metadata": {},
     "output_type": "execute_result"
    }
   ],
   "source": [
    "df[['engine-size', 'price']].corr()"
   ]
  },
  {
   "cell_type": "markdown",
   "metadata": {},
   "source": [
    "Now, let's find the scatterplot of `highway-mpg` and `price`. Make sure start the y axis at 0 and add a title and axis labels."
   ]
  },
  {
   "cell_type": "code",
   "execution_count": 9,
   "metadata": {},
   "outputs": [
    {
     "data": {
      "text/plain": [
       "Text(0.5, 1.0, 'Relationship between Highway MPG and Price')"
      ]
     },
     "execution_count": 9,
     "metadata": {},
     "output_type": "execute_result"
    },
    {
     "data": {
      "image/png": "[encoded data removed]",
      "text/plain": [
       "<Figure size 640x480 with 1 Axes>"
      ]
     },
     "metadata": {},
     "output_type": "display_data"
    }
   ],
   "source": [
    "sns.regplot(x='highway-mpg', y='price', data=df)\n",
    "plt.xlabel('Highway MPG')\n",
    "plt.ylabel('Price')\n",
    "plt.ylim(bottom=0, top = 50000)\n",
    "plt.title('Relationship between Highway MPG and Price')"
   ]
  },
  {
   "cell_type": "markdown",
   "metadata": {},
   "source": [
    "As highway-mpg goes up, the price goes down. This indicates an **strong inverse/negative correlation** between these two variables. Highway MPG could potentially be a predictor of price.\n",
    "\n",
    "Now, look at the numerical correlation between \"highway-mpg\" and \"price\"."
   ]
  },
  {
   "cell_type": "code",
   "execution_count": 10,
   "metadata": {},
   "outputs": [
    {
     "data": {
      "text/html": [
       "<div>\n",
       "<style scoped>\n",
       "    .dataframe tbody tr th:only-of-type {\n",
       "        vertical-align: middle;\n",
       "    }\n",
       "\n",
       "    .dataframe tbody tr th {\n",
       "        vertical-align: top;\n",
       "    }\n",
       "\n",
       "    .dataframe thead th {\n",
       "        text-align: right;\n",
       "    }\n",
       "</style>\n",
       "<table border=\"1\" class=\"dataframe\">\n",
       "  <thead>\n",
       "    <tr style=\"text-align: right;\">\n",
       "      <th></th>\n",
       "      <th>highway-mpg</th>\n",
       "      <th>price</th>\n",
       "    </tr>\n",
       "  </thead>\n",
       "  <tbody>\n",
       "    <tr>\n",
       "      <th>highway-mpg</th>\n",
       "      <td>1.000000</td>\n",
       "      <td>-0.705115</td>\n",
       "    </tr>\n",
       "    <tr>\n",
       "      <th>price</th>\n",
       "      <td>-0.705115</td>\n",
       "      <td>1.000000</td>\n",
       "    </tr>\n",
       "  </tbody>\n",
       "</table>\n",
       "</div>"
      ],
      "text/plain": [
       "             highway-mpg     price\n",
       "highway-mpg     1.000000 -0.705115\n",
       "price          -0.705115  1.000000"
      ]
     },
     "execution_count": 10,
     "metadata": {},
     "output_type": "execute_result"
    }
   ],
   "source": [
    "df[['highway-mpg', 'price']].corr()"
   ]
  },
  {
   "cell_type": "markdown",
   "metadata": {},
   "source": [
    "**Weak Linear Relationship**\n",
    "Let's see if \"peak-rpm\" is a predictor variable of \"price\" by making a plot.\n"
   ]
  },
  {
   "cell_type": "code",
   "execution_count": 11,
   "metadata": {},
   "outputs": [
    {
     "data": {
      "text/plain": [
       "Text(0.5, 1.0, 'Relationship between Peak RPM and Price')"
      ]
     },
     "execution_count": 11,
     "metadata": {},
     "output_type": "execute_result"
    },
    {
     "data": {
      "image/png": "[encoded data removed]",
      "text/plain": [
       "<Figure size 640x480 with 1 Axes>"
      ]
     },
     "metadata": {},
     "output_type": "display_data"
    }
   ],
   "source": [
    "sns.regplot(x='peak-rpm', y='price', data=df)\n",
    "plt.xlabel('Peak RPM')\n",
    "plt.ylabel('Price')\n",
    "plt.ylim(bottom=0, top = 50000)\n",
    "plt.title('Relationship between Peak RPM and Price')"
   ]
  },
  {
   "cell_type": "markdown",
   "metadata": {},
   "source": [
    "Peak RPM does not seem like a good predictor of the price at all since the regression line is close to horizontal. Also, the data points are very scattered and far from the fitted line, showing lots of variability. Therefore, it's not a reliable variable.\n",
    "\n",
    "Let's look at the numerical correlation between the variables."
   ]
  },
  {
   "cell_type": "code",
   "execution_count": 12,
   "metadata": {},
   "outputs": [
    {
     "data": {
      "text/html": [
       "<div>\n",
       "<style scoped>\n",
       "    .dataframe tbody tr th:only-of-type {\n",
       "        vertical-align: middle;\n",
       "    }\n",
       "\n",
       "    .dataframe tbody tr th {\n",
       "        vertical-align: top;\n",
       "    }\n",
       "\n",
       "    .dataframe thead th {\n",
       "        text-align: right;\n",
       "    }\n",
       "</style>\n",
       "<table border=\"1\" class=\"dataframe\">\n",
       "  <thead>\n",
       "    <tr style=\"text-align: right;\">\n",
       "      <th></th>\n",
       "      <th>peak-rpm</th>\n",
       "      <th>price</th>\n",
       "    </tr>\n",
       "  </thead>\n",
       "  <tbody>\n",
       "    <tr>\n",
       "      <th>peak-rpm</th>\n",
       "      <td>1.000000</td>\n",
       "      <td>-0.101519</td>\n",
       "    </tr>\n",
       "    <tr>\n",
       "      <th>price</th>\n",
       "      <td>-0.101519</td>\n",
       "      <td>1.000000</td>\n",
       "    </tr>\n",
       "  </tbody>\n",
       "</table>\n",
       "</div>"
      ],
      "text/plain": [
       "          peak-rpm     price\n",
       "peak-rpm  1.000000 -0.101519\n",
       "price    -0.101519  1.000000"
      ]
     },
     "execution_count": 12,
     "metadata": {},
     "output_type": "execute_result"
    }
   ],
   "source": [
    "df[['peak-rpm', 'price']].corr()"
   ]
  },
  {
   "cell_type": "markdown",
   "metadata": {},
   "source": [
    "Let's find the numerical correlation between x=\"stroke\" and y=\"price\"."
   ]
  },
  {
   "cell_type": "code",
   "execution_count": 13,
   "metadata": {},
   "outputs": [
    {
     "data": {
      "text/html": [
       "<div>\n",
       "<style scoped>\n",
       "    .dataframe tbody tr th:only-of-type {\n",
       "        vertical-align: middle;\n",
       "    }\n",
       "\n",
       "    .dataframe tbody tr th {\n",
       "        vertical-align: top;\n",
       "    }\n",
       "\n",
       "    .dataframe thead th {\n",
       "        text-align: right;\n",
       "    }\n",
       "</style>\n",
       "<table border=\"1\" class=\"dataframe\">\n",
       "  <thead>\n",
       "    <tr style=\"text-align: right;\">\n",
       "      <th></th>\n",
       "      <th>stroke</th>\n",
       "      <th>price</th>\n",
       "    </tr>\n",
       "  </thead>\n",
       "  <tbody>\n",
       "    <tr>\n",
       "      <th>stroke</th>\n",
       "      <td>1.000000</td>\n",
       "      <td>0.083296</td>\n",
       "    </tr>\n",
       "    <tr>\n",
       "      <th>price</th>\n",
       "      <td>0.083296</td>\n",
       "      <td>1.000000</td>\n",
       "    </tr>\n",
       "  </tbody>\n",
       "</table>\n",
       "</div>"
      ],
      "text/plain": [
       "          stroke     price\n",
       "stroke  1.000000  0.083296\n",
       "price   0.083296  1.000000"
      ]
     },
     "execution_count": 13,
     "metadata": {},
     "output_type": "execute_result"
    }
   ],
   "source": [
    "df[['stroke', 'price']].corr()"
   ]
  },
  {
   "cell_type": "markdown",
   "metadata": {},
   "source": [
    "Given the correlation results between \"price\" and \"stroke\", do we expect a linear relationship?\n",
    "We verify your results using the function `regplot()`."
   ]
  },
  {
   "cell_type": "code",
   "execution_count": 14,
   "metadata": {},
   "outputs": [
    {
     "data": {
      "text/plain": [
       "Text(0.5, 1.0, 'Relationship between Stroke and Price')"
      ]
     },
     "execution_count": 14,
     "metadata": {},
     "output_type": "execute_result"
    },
    {
     "data": {
      "image/png": "[encoded data removed]",
      "text/plain": [
       "<Figure size 640x480 with 1 Axes>"
      ]
     },
     "metadata": {},
     "output_type": "display_data"
    }
   ],
   "source": [
    "sns.regplot(x='stroke', y='price', data=df)\n",
    "plt.xlabel('Stroke')\n",
    "plt.ylabel('Price')\n",
    "plt.ylim(bottom=0, top = 50000)\n",
    "plt.title('Relationship between Stroke and Price')"
   ]
  },
  {
   "cell_type": "markdown",
   "metadata": {},
   "source": [
    "#### Categorical variables\n",
    "\n",
    "These are variables that describe a 'characteristic' of a data unit, and are selected from a small group of categories. The categorical variables can have the type \"object\" or \"int64\". A good way to visualize categorical variables is by using boxplots.\n",
    "\n",
    "We are going to use seaborn's `boxplot()` like this: `sns.boxplot(x=..., y=..., data=df)`."
   ]
  },
  {
   "cell_type": "markdown",
   "metadata": {},
   "source": [
    "Let's look at the relationship between \"body-style\" and \"price\".\n"
   ]
  },
  {
   "cell_type": "code",
   "execution_count": 15,
   "metadata": {},
   "outputs": [
    {
     "data": {
      "text/plain": [
       "<AxesSubplot: xlabel='body-style', ylabel='price'>"
      ]
     },
     "execution_count": 15,
     "metadata": {},
     "output_type": "execute_result"
    },
    {
     "data": {
      "image/png": "[encoded data removed]",
      "text/plain": [
       "<Figure size 640x480 with 1 Axes>"
      ]
     },
     "metadata": {},
     "output_type": "display_data"
    }
   ],
   "source": [
    "sns.boxplot(x='body-style', y='price', data=df)"
   ]
  },
  {
   "cell_type": "markdown",
   "metadata": {},
   "source": [
    "We see that the distributions of price between the different body-style categories have a significant overlap, so body-style would not be a good predictor of price. \n",
    "\n",
    "\n",
    "What about another column? Let's examine engine \"engine-location\" and \"price\" with another boxplot."
   ]
  },
  {
   "cell_type": "code",
   "execution_count": 16,
   "metadata": {},
   "outputs": [
    {
     "data": {
      "text/plain": [
       "<AxesSubplot: xlabel='engine-location', ylabel='price'>"
      ]
     },
     "execution_count": 16,
     "metadata": {},
     "output_type": "execute_result"
    },
    {
     "data": {
      "image/png": "[encoded data removed]",
      "text/plain": [
       "<Figure size 640x480 with 1 Axes>"
      ]
     },
     "metadata": {},
     "output_type": "display_data"
    }
   ],
   "source": [
    "sns.boxplot(x='engine-location',y='price', data=df)\n"
   ]
  },
  {
   "cell_type": "markdown",
   "metadata": {},
   "source": [
    "Here we see that the distribution of price between these two engine-location categories, front and rear, are distinct enough to take engine-location as a potential good predictor of price.\n",
    "\n",
    "Let's do the same for \"drive-wheels\" and \"price\".\n"
   ]
  },
  {
   "cell_type": "code",
   "execution_count": 17,
   "metadata": {},
   "outputs": [
    {
     "data": {
      "text/plain": [
       "<AxesSubplot: xlabel='drive-wheels', ylabel='price'>"
      ]
     },
     "execution_count": 17,
     "metadata": {},
     "output_type": "execute_result"
    },
    {
     "data": {
      "image/png": "[encoded data removed]",
      "text/plain": [
       "<Figure size 640x480 with 1 Axes>"
      ]
     },
     "metadata": {},
     "output_type": "display_data"
    }
   ],
   "source": [
    "sns.boxplot(x='drive-wheels', y='price', data=df)"
   ]
  },
  {
   "cell_type": "markdown",
   "metadata": {},
   "source": [
    "<p>Here we see that the distribution of price between the different drive-wheels categories differs. As such, drive-wheels could potentially be a predictor of price.</p>\n"
   ]
  },
  {
   "cell_type": "markdown",
   "metadata": {},
   "source": [
    "#### Descriptive statistical analysis\n",
    "Let's first take a look at the variables by utilizing a description method.\n",
    "\n",
    "The `describe()` function automatically computes basic statistics for all continuous variables. Any NaN values are automatically skipped in these statistics.\n",
    "\n",
    "This will show:\n",
    "- the count of that variable\n",
    "- the mean\n",
    "- the standard deviation (std)\n",
    "- the minimum value\n",
    "- the IQR (Interquartile Range: 25%, 50% and 75%)\n",
    "- the maximum value\n",
    "\n",
    "Use `describe()` in our dataframe here."
   ]
  },
  {
   "cell_type": "code",
   "execution_count": 18,
   "metadata": {},
   "outputs": [
    {
     "data": {
      "text/html": [
       "<div>\n",
       "<style scoped>\n",
       "    .dataframe tbody tr th:only-of-type {\n",
       "        vertical-align: middle;\n",
       "    }\n",
       "\n",
       "    .dataframe tbody tr th {\n",
       "        vertical-align: top;\n",
       "    }\n",
       "\n",
       "    .dataframe thead th {\n",
       "        text-align: right;\n",
       "    }\n",
       "</style>\n",
       "<table border=\"1\" class=\"dataframe\">\n",
       "  <thead>\n",
       "    <tr style=\"text-align: right;\">\n",
       "      <th></th>\n",
       "      <th>Unnamed: 0</th>\n",
       "      <th>symboling</th>\n",
       "      <th>normalized-losses</th>\n",
       "      <th>wheel-base</th>\n",
       "      <th>length</th>\n",
       "      <th>width</th>\n",
       "      <th>height</th>\n",
       "      <th>curb-weight</th>\n",
       "      <th>engine-size</th>\n",
       "      <th>bore</th>\n",
       "      <th>stroke</th>\n",
       "      <th>compression-ratio</th>\n",
       "      <th>horsepower</th>\n",
       "      <th>peak-rpm</th>\n",
       "      <th>city-mpg</th>\n",
       "      <th>highway-mpg</th>\n",
       "      <th>price</th>\n",
       "      <th>city-L/100km</th>\n",
       "      <th>highway-L/100km</th>\n",
       "    </tr>\n",
       "  </thead>\n",
       "  <tbody>\n",
       "    <tr>\n",
       "      <th>count</th>\n",
       "      <td>200.000000</td>\n",
       "      <td>200.000000</td>\n",
       "      <td>200.000000</td>\n",
       "      <td>200.000000</td>\n",
       "      <td>200.000000</td>\n",
       "      <td>200.000000</td>\n",
       "      <td>200.000000</td>\n",
       "      <td>200.000000</td>\n",
       "      <td>200.000000</td>\n",
       "      <td>200.000000</td>\n",
       "      <td>200.000000</td>\n",
       "      <td>200.000000</td>\n",
       "      <td>200.000000</td>\n",
       "      <td>200.000000</td>\n",
       "      <td>200.000000</td>\n",
       "      <td>200.000000</td>\n",
       "      <td>200.000000</td>\n",
       "      <td>200.000000</td>\n",
       "      <td>200.000000</td>\n",
       "    </tr>\n",
       "    <tr>\n",
       "      <th>mean</th>\n",
       "      <td>99.500000</td>\n",
       "      <td>0.830000</td>\n",
       "      <td>122.000000</td>\n",
       "      <td>98.848000</td>\n",
       "      <td>0.837232</td>\n",
       "      <td>0.915250</td>\n",
       "      <td>0.899523</td>\n",
       "      <td>2555.705000</td>\n",
       "      <td>126.860000</td>\n",
       "      <td>3.330000</td>\n",
       "      <td>3.259847</td>\n",
       "      <td>10.170100</td>\n",
       "      <td>103.355000</td>\n",
       "      <td>5118.181818</td>\n",
       "      <td>25.200000</td>\n",
       "      <td>30.705000</td>\n",
       "      <td>13205.690000</td>\n",
       "      <td>9.937914</td>\n",
       "      <td>8.041663</td>\n",
       "    </tr>\n",
       "    <tr>\n",
       "      <th>std</th>\n",
       "      <td>57.879185</td>\n",
       "      <td>1.248557</td>\n",
       "      <td>32.076542</td>\n",
       "      <td>6.038261</td>\n",
       "      <td>0.059333</td>\n",
       "      <td>0.029207</td>\n",
       "      <td>0.040610</td>\n",
       "      <td>518.594552</td>\n",
       "      <td>41.650501</td>\n",
       "      <td>0.268562</td>\n",
       "      <td>0.314177</td>\n",
       "      <td>4.014163</td>\n",
       "      <td>37.455487</td>\n",
       "      <td>479.240110</td>\n",
       "      <td>6.432487</td>\n",
       "      <td>6.827227</td>\n",
       "      <td>7966.982558</td>\n",
       "      <td>2.539415</td>\n",
       "      <td>1.844764</td>\n",
       "    </tr>\n",
       "    <tr>\n",
       "      <th>min</th>\n",
       "      <td>0.000000</td>\n",
       "      <td>-2.000000</td>\n",
       "      <td>65.000000</td>\n",
       "      <td>86.600000</td>\n",
       "      <td>0.678039</td>\n",
       "      <td>0.837500</td>\n",
       "      <td>0.799331</td>\n",
       "      <td>1488.000000</td>\n",
       "      <td>61.000000</td>\n",
       "      <td>2.540000</td>\n",
       "      <td>2.070000</td>\n",
       "      <td>7.000000</td>\n",
       "      <td>48.000000</td>\n",
       "      <td>4150.000000</td>\n",
       "      <td>13.000000</td>\n",
       "      <td>16.000000</td>\n",
       "      <td>5118.000000</td>\n",
       "      <td>4.795918</td>\n",
       "      <td>4.351852</td>\n",
       "    </tr>\n",
       "    <tr>\n",
       "      <th>25%</th>\n",
       "      <td>49.750000</td>\n",
       "      <td>0.000000</td>\n",
       "      <td>100.250000</td>\n",
       "      <td>94.500000</td>\n",
       "      <td>0.800937</td>\n",
       "      <td>0.891319</td>\n",
       "      <td>0.869565</td>\n",
       "      <td>2163.000000</td>\n",
       "      <td>97.750000</td>\n",
       "      <td>3.150000</td>\n",
       "      <td>3.117500</td>\n",
       "      <td>8.575000</td>\n",
       "      <td>70.000000</td>\n",
       "      <td>4800.000000</td>\n",
       "      <td>19.000000</td>\n",
       "      <td>25.000000</td>\n",
       "      <td>7775.000000</td>\n",
       "      <td>7.833333</td>\n",
       "      <td>6.911765</td>\n",
       "    </tr>\n",
       "    <tr>\n",
       "      <th>50%</th>\n",
       "      <td>99.500000</td>\n",
       "      <td>1.000000</td>\n",
       "      <td>122.000000</td>\n",
       "      <td>97.000000</td>\n",
       "      <td>0.832292</td>\n",
       "      <td>0.909722</td>\n",
       "      <td>0.904682</td>\n",
       "      <td>2414.000000</td>\n",
       "      <td>119.500000</td>\n",
       "      <td>3.310000</td>\n",
       "      <td>3.290000</td>\n",
       "      <td>9.000000</td>\n",
       "      <td>95.000000</td>\n",
       "      <td>5159.090909</td>\n",
       "      <td>24.000000</td>\n",
       "      <td>30.000000</td>\n",
       "      <td>10270.000000</td>\n",
       "      <td>9.791667</td>\n",
       "      <td>7.833333</td>\n",
       "    </tr>\n",
       "    <tr>\n",
       "      <th>75%</th>\n",
       "      <td>149.250000</td>\n",
       "      <td>2.000000</td>\n",
       "      <td>138.250000</td>\n",
       "      <td>102.400000</td>\n",
       "      <td>0.881788</td>\n",
       "      <td>0.926042</td>\n",
       "      <td>0.928512</td>\n",
       "      <td>2928.250000</td>\n",
       "      <td>142.000000</td>\n",
       "      <td>3.582500</td>\n",
       "      <td>3.410000</td>\n",
       "      <td>9.400000</td>\n",
       "      <td>116.000000</td>\n",
       "      <td>5500.000000</td>\n",
       "      <td>30.000000</td>\n",
       "      <td>34.000000</td>\n",
       "      <td>16500.750000</td>\n",
       "      <td>12.368421</td>\n",
       "      <td>9.400000</td>\n",
       "    </tr>\n",
       "    <tr>\n",
       "      <th>max</th>\n",
       "      <td>199.000000</td>\n",
       "      <td>3.000000</td>\n",
       "      <td>256.000000</td>\n",
       "      <td>120.900000</td>\n",
       "      <td>1.000000</td>\n",
       "      <td>1.000000</td>\n",
       "      <td>1.000000</td>\n",
       "      <td>4066.000000</td>\n",
       "      <td>326.000000</td>\n",
       "      <td>3.940000</td>\n",
       "      <td>4.170000</td>\n",
       "      <td>23.000000</td>\n",
       "      <td>262.000000</td>\n",
       "      <td>6600.000000</td>\n",
       "      <td>49.000000</td>\n",
       "      <td>54.000000</td>\n",
       "      <td>45400.000000</td>\n",
       "      <td>18.076923</td>\n",
       "      <td>14.687500</td>\n",
       "    </tr>\n",
       "  </tbody>\n",
       "</table>\n",
       "</div>"
      ],
      "text/plain": [
       "       Unnamed: 0   symboling  normalized-losses  wheel-base      length  \\\n",
       "count  200.000000  200.000000         200.000000  200.000000  200.000000   \n",
       "mean    99.500000    0.830000         122.000000   98.848000    0.837232   \n",
       "std     57.879185    1.248557          32.076542    6.038261    0.059333   \n",
       "min      0.000000   -2.000000          65.000000   86.600000    0.678039   \n",
       "25%     49.750000    0.000000         100.250000   94.500000    0.800937   \n",
       "50%     99.500000    1.000000         122.000000   97.000000    0.832292   \n",
       "75%    149.250000    2.000000         138.250000  102.400000    0.881788   \n",
       "max    199.000000    3.000000         256.000000  120.900000    1.000000   \n",
       "\n",
       "            width      height  curb-weight  engine-size        bore  \\\n",
       "count  200.000000  200.000000   200.000000   200.000000  200.000000   \n",
       "mean     0.915250    0.899523  2555.705000   126.860000    3.330000   \n",
       "std      0.029207    0.040610   518.594552    41.650501    0.268562   \n",
       "min      0.837500    0.799331  1488.000000    61.000000    2.540000   \n",
       "25%      0.891319    0.869565  2163.000000    97.750000    3.150000   \n",
       "50%      0.909722    0.904682  2414.000000   119.500000    3.310000   \n",
       "75%      0.926042    0.928512  2928.250000   142.000000    3.582500   \n",
       "max      1.000000    1.000000  4066.000000   326.000000    3.940000   \n",
       "\n",
       "           stroke  compression-ratio  horsepower     peak-rpm    city-mpg  \\\n",
       "count  200.000000         200.000000  200.000000   200.000000  200.000000   \n",
       "mean     3.259847          10.170100  103.355000  5118.181818   25.200000   \n",
       "std      0.314177           4.014163   37.455487   479.240110    6.432487   \n",
       "min      2.070000           7.000000   48.000000  4150.000000   13.000000   \n",
       "25%      3.117500           8.575000   70.000000  4800.000000   19.000000   \n",
       "50%      3.290000           9.000000   95.000000  5159.090909   24.000000   \n",
       "75%      3.410000           9.400000  116.000000  5500.000000   30.000000   \n",
       "max      4.170000          23.000000  262.000000  6600.000000   49.000000   \n",
       "\n",
       "       highway-mpg         price  city-L/100km  highway-L/100km  \n",
       "count   200.000000    200.000000    200.000000       200.000000  \n",
       "mean     30.705000  13205.690000      9.937914         8.041663  \n",
       "std       6.827227   7966.982558      2.539415         1.844764  \n",
       "min      16.000000   5118.000000      4.795918         4.351852  \n",
       "25%      25.000000   7775.000000      7.833333         6.911765  \n",
       "50%      30.000000  10270.000000      9.791667         7.833333  \n",
       "75%      34.000000  16500.750000     12.368421         9.400000  \n",
       "max      54.000000  45400.000000     18.076923        14.687500  "
      ]
     },
     "execution_count": 18,
     "metadata": {},
     "output_type": "execute_result"
    }
   ],
   "source": [
    "df.describe()"
   ]
  },
  {
   "cell_type": "markdown",
   "metadata": {},
   "source": [
    "The default setting of `describe()` skips variables of type `object`. We can apply the function on the variables of type `object` by including them specifically with `describe(include=['object'])`."
   ]
  },
  {
   "cell_type": "code",
   "execution_count": 19,
   "metadata": {},
   "outputs": [
    {
     "data": {
      "text/html": [
       "<div>\n",
       "<style scoped>\n",
       "    .dataframe tbody tr th:only-of-type {\n",
       "        vertical-align: middle;\n",
       "    }\n",
       "\n",
       "    .dataframe tbody tr th {\n",
       "        vertical-align: top;\n",
       "    }\n",
       "\n",
       "    .dataframe thead th {\n",
       "        text-align: right;\n",
       "    }\n",
       "</style>\n",
       "<table border=\"1\" class=\"dataframe\">\n",
       "  <thead>\n",
       "    <tr style=\"text-align: right;\">\n",
       "      <th></th>\n",
       "      <th>make</th>\n",
       "      <th>num-of-doors</th>\n",
       "      <th>body-style</th>\n",
       "      <th>drive-wheels</th>\n",
       "      <th>engine-location</th>\n",
       "      <th>engine-type</th>\n",
       "      <th>num-of-cylinders</th>\n",
       "      <th>fuel-system</th>\n",
       "      <th>horsepower-binned</th>\n",
       "    </tr>\n",
       "  </thead>\n",
       "  <tbody>\n",
       "    <tr>\n",
       "      <th>count</th>\n",
       "      <td>200</td>\n",
       "      <td>200</td>\n",
       "      <td>200</td>\n",
       "      <td>200</td>\n",
       "      <td>200</td>\n",
       "      <td>200</td>\n",
       "      <td>200</td>\n",
       "      <td>200</td>\n",
       "      <td>200</td>\n",
       "    </tr>\n",
       "    <tr>\n",
       "      <th>unique</th>\n",
       "      <td>22</td>\n",
       "      <td>2</td>\n",
       "      <td>5</td>\n",
       "      <td>3</td>\n",
       "      <td>2</td>\n",
       "      <td>6</td>\n",
       "      <td>7</td>\n",
       "      <td>8</td>\n",
       "      <td>3</td>\n",
       "    </tr>\n",
       "    <tr>\n",
       "      <th>top</th>\n",
       "      <td>toyota</td>\n",
       "      <td>four</td>\n",
       "      <td>sedan</td>\n",
       "      <td>fwd</td>\n",
       "      <td>front</td>\n",
       "      <td>ohc</td>\n",
       "      <td>four</td>\n",
       "      <td>mpfi</td>\n",
       "      <td>Low</td>\n",
       "    </tr>\n",
       "    <tr>\n",
       "      <th>freq</th>\n",
       "      <td>32</td>\n",
       "      <td>115</td>\n",
       "      <td>94</td>\n",
       "      <td>118</td>\n",
       "      <td>197</td>\n",
       "      <td>145</td>\n",
       "      <td>156</td>\n",
       "      <td>91</td>\n",
       "      <td>152</td>\n",
       "    </tr>\n",
       "  </tbody>\n",
       "</table>\n",
       "</div>"
      ],
      "text/plain": [
       "          make num-of-doors body-style drive-wheels engine-location  \\\n",
       "count      200          200        200          200             200   \n",
       "unique      22            2          5            3               2   \n",
       "top     toyota         four      sedan          fwd           front   \n",
       "freq        32          115         94          118             197   \n",
       "\n",
       "       engine-type num-of-cylinders fuel-system horsepower-binned  \n",
       "count          200              200         200               200  \n",
       "unique           6                7           8                 3  \n",
       "top            ohc             four        mpfi               Low  \n",
       "freq           145              156          91               152  "
      ]
     },
     "execution_count": 19,
     "metadata": {},
     "output_type": "execute_result"
    }
   ],
   "source": [
    "df.describe(include=['object'])"
   ]
  },
  {
   "cell_type": "markdown",
   "metadata": {},
   "source": [
    "#### Value counts\n",
    "Value counts is a good way of understanding how many units of each characteristic/variable we have. We can apply the `value_counts()` function on the column \"engine-location\". Don’t forget the function `value_counts()` only works on pandas series, not pandas dataframes. As a result, we only include one bracket `df['engine-location']` not two brackets `df[['engine-location']]`."
   ]
  },
  {
   "cell_type": "code",
   "execution_count": 20,
   "metadata": {},
   "outputs": [
    {
     "data": {
      "text/plain": [
       "engine-location\n",
       "front    197\n",
       "rear       3\n",
       "Name: count, dtype: int64"
      ]
     },
     "execution_count": 20,
     "metadata": {},
     "output_type": "execute_result"
    }
   ],
   "source": [
    "df.value_counts(df['engine-location'])"
   ]
  },
  {
   "cell_type": "markdown",
   "metadata": {},
   "source": [
    "We can convert the series to a dataframe with the function `.to_frame()`. Create the dataframe \"engine_location_counts\" to store the `value_counts()` of \"engine-location\"."
   ]
  },
  {
   "cell_type": "code",
   "execution_count": 21,
   "metadata": {},
   "outputs": [],
   "source": [
    "engine_location_counts = df.value_counts(df['engine-location']).to_frame()"
   ]
  },
  {
   "cell_type": "markdown",
   "metadata": {},
   "source": [
    "<p>After examining the value counts of the engine location, we see that engine location would not be a good predictor variable for the price. This is because we only have three cars with a rear engine and 198 with an engine in the front, so this result is skewed. Thus, we are not able to draw any conclusions about the engine location.</p>\n"
   ]
  },
  {
   "cell_type": "markdown",
   "metadata": {},
   "source": [
    "#### Basics of grouping\n",
    "\n",
    "The `groupby()` method groups data by different categories. The data is grouped based on one or several variables, and analysis is performed on the individual groups.\n",
    "\n",
    "For example, let's group by the variable \"drive-wheels\". Before we do, see that there are 3 different categories of drive wheels with the function `unique()`."
   ]
  },
  {
   "cell_type": "code",
   "execution_count": 22,
   "metadata": {},
   "outputs": [
    {
     "name": "stderr",
     "output_type": "stream",
     "text": [
      "/tmp/ipykernel_5735/304062335.py:1: FutureWarning: unique with argument that is not not a Series, Index, ExtensionArray, or np.ndarray is deprecated and will raise in a future version.\n",
      "  pd.unique('drive-wheels')\n"
     ]
    },
    {
     "data": {
      "text/plain": [
       "array(['drive-wheels'], dtype=object)"
      ]
     },
     "execution_count": 22,
     "metadata": {},
     "output_type": "execute_result"
    }
   ],
   "source": [
    "pd.unique('drive-wheels')"
   ]
  },
  {
   "cell_type": "markdown",
   "metadata": {},
   "source": [
    "If we want to know, on average, which type of drive wheel is most valuable, we can group \"drive-wheels\" and then average them.\n",
    "\n",
    "We can select the columns 'drive-wheels' nd 'price', then assign it to the dataframe \"df_1\". Then use the function `groupby()` like this `.groupby(['drive-wheels'],as_index=False)` to group by 'drive-wheels' and save our grouping in the variable `gp`. To get the mean value by group, we can use the function `.mean()` on our groupings."
   ]
  },
  {
   "cell_type": "code",
   "execution_count": 23,
   "metadata": {},
   "outputs": [
    {
     "name": "stdout",
     "output_type": "stream",
     "text": [
      "  drive-wheels         price\n",
      "0          4wd  10241.000000\n",
      "1          fwd   9244.779661\n",
      "2          rwd  19842.243243 <pandas.core.groupby.generic.DataFrameGroupBy object at 0x7ab805fe2a20>\n"
     ]
    }
   ],
   "source": [
    "df_1 = df[['drive-wheels', 'price']]\n",
    "gp = df_1.groupby(['drive-wheels'], as_index=False)\n",
    "gp_m = gp.mean()\n",
    "print(gp_m, gp)"
   ]
  },
  {
   "cell_type": "markdown",
   "metadata": {},
   "source": [
    "From our data, it seems rear-wheel drive vehicles are, on average, the most expensive, while 4-wheel and front-wheel are approximately the same in price.\n",
    "\n",
    "You can also group by multiple variables. For example, let's group by both 'drive-wheels' and 'body-style'. This groups the dataframe by the unique combination of 'drive-wheels' and 'body-style'. Create the dataframe `df_2` with the three columns we need, group by both 'drive-wheels' and 'body-style', and saving your groupings to `gp2`. Then find the mean of the groupings in `gp2` and save the dataframe to `gp2_m`."
   ]
  },
  {
   "cell_type": "code",
   "execution_count": 25,
   "metadata": {},
   "outputs": [
    {
     "name": "stdout",
     "output_type": "stream",
     "text": [
      "   drive-wheels   body-style         price\n",
      "0           4wd    hatchback   7603.000000\n",
      "1           4wd        sedan  12647.333333\n",
      "2           4wd        wagon   9095.750000\n",
      "3           fwd  convertible  11595.000000\n",
      "4           fwd      hardtop   8249.000000\n",
      "5           fwd    hatchback   8396.387755\n",
      "6           fwd        sedan   9811.800000\n",
      "7           fwd        wagon   9997.333333\n",
      "8           rwd  convertible  26563.250000\n",
      "9           rwd      hardtop  24202.714286\n",
      "10          rwd    hatchback  14337.777778\n",
      "11          rwd        sedan  21711.833333\n",
      "12          rwd        wagon  16994.222222 <pandas.core.groupby.generic.DataFrameGroupBy object at 0x7ab805fe2a20>\n"
     ]
    }
   ],
   "source": [
    "df_2 = df[['drive-wheels', 'body-style', 'price']]\n",
    "gp2 = df_2.groupby(['drive-wheels', 'body-style'], as_index=False)\n",
    "gp2_m = gp2.mean()\n",
    "print(gp2_m, gp)"
   ]
  },
  {
   "cell_type": "markdown",
   "metadata": {},
   "source": [
    "This grouped data is much easier to visualize when it is made into a pivot table. A pivot table is like an Excel spreadsheet, with one variable along the column and another along the row. We can convert the dataframe to a pivot table using the method `pivot()` to create a pivot table from the groups.\n",
    "\n",
    "In this case, we will leave the 'drive-wheels' variable as the rows of the table, and pivot 'body-style' to become the columns of the table by using the function `.pivot(index='drive-wheels',columns='body-style')` on our dataframe of means `gp2_m`. Save your pivot table in a dataframe `grouped_pivot`."
   ]
  },
  {
   "cell_type": "code",
   "execution_count": 27,
   "metadata": {},
   "outputs": [],
   "source": [
    "grouped_pivot = gp2_m.pivot(index='drive-wheels', columns='body-style')"
   ]
  },
  {
   "cell_type": "markdown",
   "metadata": {},
   "source": [
    "Often, we won't have data for some of the pivot cells. We can fill these missing cells with the value 0, but any other value could potentially be used as well. We can use the function `.fillna(...)` with the parameter 0 on the pivot table to fill in the values."
   ]
  },
  {
   "cell_type": "code",
   "execution_count": 29,
   "metadata": {},
   "outputs": [
    {
     "data": {
      "text/html": [
       "<div>\n",
       "<style scoped>\n",
       "    .dataframe tbody tr th:only-of-type {\n",
       "        vertical-align: middle;\n",
       "    }\n",
       "\n",
       "    .dataframe tbody tr th {\n",
       "        vertical-align: top;\n",
       "    }\n",
       "\n",
       "    .dataframe thead tr th {\n",
       "        text-align: left;\n",
       "    }\n",
       "\n",
       "    .dataframe thead tr:last-of-type th {\n",
       "        text-align: right;\n",
       "    }\n",
       "</style>\n",
       "<table border=\"1\" class=\"dataframe\">\n",
       "  <thead>\n",
       "    <tr>\n",
       "      <th></th>\n",
       "      <th colspan=\"5\" halign=\"left\">price</th>\n",
       "    </tr>\n",
       "    <tr>\n",
       "      <th>body-style</th>\n",
       "      <th>convertible</th>\n",
       "      <th>hardtop</th>\n",
       "      <th>hatchback</th>\n",
       "      <th>sedan</th>\n",
       "      <th>wagon</th>\n",
       "    </tr>\n",
       "    <tr>\n",
       "      <th>drive-wheels</th>\n",
       "      <th></th>\n",
       "      <th></th>\n",
       "      <th></th>\n",
       "      <th></th>\n",
       "      <th></th>\n",
       "    </tr>\n",
       "  </thead>\n",
       "  <tbody>\n",
       "    <tr>\n",
       "      <th>4wd</th>\n",
       "      <td>0.00</td>\n",
       "      <td>0.000000</td>\n",
       "      <td>7603.000000</td>\n",
       "      <td>12647.333333</td>\n",
       "      <td>9095.750000</td>\n",
       "    </tr>\n",
       "    <tr>\n",
       "      <th>fwd</th>\n",
       "      <td>11595.00</td>\n",
       "      <td>8249.000000</td>\n",
       "      <td>8396.387755</td>\n",
       "      <td>9811.800000</td>\n",
       "      <td>9997.333333</td>\n",
       "    </tr>\n",
       "    <tr>\n",
       "      <th>rwd</th>\n",
       "      <td>26563.25</td>\n",
       "      <td>24202.714286</td>\n",
       "      <td>14337.777778</td>\n",
       "      <td>21711.833333</td>\n",
       "      <td>16994.222222</td>\n",
       "    </tr>\n",
       "  </tbody>\n",
       "</table>\n",
       "</div>"
      ],
      "text/plain": [
       "                   price                                            \\\n",
       "body-style   convertible       hardtop     hatchback         sedan   \n",
       "drive-wheels                                                         \n",
       "4wd                 0.00      0.000000   7603.000000  12647.333333   \n",
       "fwd             11595.00   8249.000000   8396.387755   9811.800000   \n",
       "rwd             26563.25  24202.714286  14337.777778  21711.833333   \n",
       "\n",
       "                            \n",
       "body-style           wagon  \n",
       "drive-wheels                \n",
       "4wd            9095.750000  \n",
       "fwd            9997.333333  \n",
       "rwd           16994.222222  "
      ]
     },
     "execution_count": 29,
     "metadata": {},
     "output_type": "execute_result"
    }
   ],
   "source": [
    "grouped_pivot.fillna(0)"
   ]
  },
  {
   "cell_type": "markdown",
   "metadata": {},
   "source": [
    "**Great!** Now we can see the average price of a vechicle based on its drive-wheels and body-style"
   ]
  },
  {
   "cell_type": "markdown",
   "metadata": {},
   "source": [
    "#### Visualize - Drive Wheels and Body Style vs. Price\n",
    "Let's use a heat map to visualize the relationship between Drive Wheels and Body Style vs Price.\n",
    "\n",
    "The heatmap plots the target variable (price) proportional to colour with respect to the variables 'drive-wheel' and 'body-style' on the vertical and horizontal axis, respectively. This allows us to visualize how the price is related to 'drive-wheel' and 'body-style'.\n",
    "\n",
    "These heatmap plots are cool but can be difficult to set up since the default labels aren't very helpful. So here is some code to make your first heatmap plot.\n",
    "```\n",
    "fig, ax = plt.subplots()\n",
    "im = ax.pcolor(grouped_pivot, cmap='RdBu')\n",
    "\n",
    "#label names\n",
    "row_labels = grouped_pivot.columns.levels[1]\n",
    "col_labels = grouped_pivot.index\n",
    "\n",
    "#move ticks and labels to the center\n",
    "ax.set_xticks(np.arange(grouped_pivot.shape[1]) + 0.5, minor=False)\n",
    "ax.set_yticks(np.arange(grouped_pivot.shape[0]) + 0.5, minor=False)\n",
    "\n",
    "#insert labels\n",
    "ax.set_xticklabels(row_labels, minor=False)\n",
    "ax.set_yticklabels(col_labels, minor=False)\n",
    "\n",
    "#rotate label if too long\n",
    "plt.xticks(rotation=90)\n",
    "\n",
    "fig.colorbar(im)\n",
    "\n",
    "plt.title(\"Heatmap of Vehicle Price by Drive Wheel and Body Style\")\n",
    "plt.xlabel(\"body style\")\n",
    "plt.ylabel(\"drive wheels\")\n",
    "plt.show()\n",
    "```\n",
    "\n"
   ]
  },
  {
   "cell_type": "code",
   "execution_count": 30,
   "metadata": {},
   "outputs": [
    {
     "data": {
      "image/png": "[encoded data removed]",
      "text/plain": [
       "<Figure size 640x480 with 2 Axes>"
      ]
     },
     "metadata": {},
     "output_type": "display_data"
    }
   ],
   "source": [
    "fig, ax = plt.subplots()\n",
    "im = ax.pcolor(grouped_pivot, cmap='RdBu')\n",
    "\n",
    "#label names\n",
    "row_labels = grouped_pivot.columns.levels[1]\n",
    "col_labels = grouped_pivot.index\n",
    "\n",
    "#move ticks and labels to the center\n",
    "ax.set_xticks(np.arange(grouped_pivot.shape[1]) + 0.5, minor=False)\n",
    "ax.set_yticks(np.arange(grouped_pivot.shape[0]) + 0.5, minor=False)\n",
    "\n",
    "#insert labels\n",
    "ax.set_xticklabels(row_labels, minor=False)\n",
    "ax.set_yticklabels(col_labels, minor=False)\n",
    "\n",
    "#rotate label if too long\n",
    "plt.xticks(rotation=90)\n",
    "\n",
    "fig.colorbar(im)\n",
    "\n",
    "plt.title(\"Heatmap of Vehicle Price by Drive Wheel and Body Style\")\n",
    "plt.xlabel(\"body style\")\n",
    "plt.ylabel(\"drive wheels\")\n",
    "plt.show()"
   ]
  },
  {
   "cell_type": "markdown",
   "metadata": {},
   "source": [
    "The main question we want to answer in this lab is, \"What are the main characteristics which have the most impact on the car price?\".\n",
    "\n",
    "To get a better measure of the important characteristics, we look at the correlation of these variables with the car price. In other words: how is the car price dependent on this variable?\n",
    "\n",
    "#### Correlation\n",
    "**Correlation**: a measure of the extent of interdependence between variables.\n",
    "**Causation**: the relationship between cause and effect between two variables.\n",
    "\n",
    "It is important to know the difference between these two. Correlation does not imply causation. Determining correlation is much simpler the determining causation as causation may require independent experimentation.\n",
    "\n",
    "**Pearson Correlation**\n",
    "\n",
    "There are multiple ways to quantify the relationship between two random variables, but the most relevant to us in this course will be the Pearson correlation coefficient. The *Pearson correlation coefficient* measures the linear dependence between two variables X and Y. \n",
    "\n",
    "The resulting coefficient is a value between -1 and 1 inclusive, where:\n",
    "- **1**: Perfect positive linear correlation.\n",
    "- **0**: No linear correlation, the two variables most likely do not affect each other.\n",
    "- **-1**: Perfect negative linear correlation.\n",
    "\n",
    "Pearson Correlation is the default method of the function `corr()`. Like before, we can calculate the Pearson Correlation of the of the 'int64' or 'float64'  variables. \n",
    "\n",
    "Let's run it again here. "
   ]
  },
  {
   "cell_type": "code",
   "execution_count": 34,
   "metadata": {},
   "outputs": [
    {
     "data": {
      "text/html": [
       "<div>\n",
       "<style scoped>\n",
       "    .dataframe tbody tr th:only-of-type {\n",
       "        vertical-align: middle;\n",
       "    }\n",
       "\n",
       "    .dataframe tbody tr th {\n",
       "        vertical-align: top;\n",
       "    }\n",
       "\n",
       "    .dataframe thead th {\n",
       "        text-align: right;\n",
       "    }\n",
       "</style>\n",
       "<table border=\"1\" class=\"dataframe\">\n",
       "  <thead>\n",
       "    <tr style=\"text-align: right;\">\n",
       "      <th></th>\n",
       "      <th>Unnamed: 0</th>\n",
       "      <th>symboling</th>\n",
       "      <th>normalized-losses</th>\n",
       "      <th>wheel-base</th>\n",
       "      <th>length</th>\n",
       "      <th>width</th>\n",
       "      <th>height</th>\n",
       "      <th>curb-weight</th>\n",
       "      <th>engine-size</th>\n",
       "      <th>bore</th>\n",
       "      <th>stroke</th>\n",
       "      <th>compression-ratio</th>\n",
       "      <th>horsepower</th>\n",
       "      <th>peak-rpm</th>\n",
       "      <th>city-mpg</th>\n",
       "      <th>highway-mpg</th>\n",
       "      <th>price</th>\n",
       "      <th>city-L/100km</th>\n",
       "      <th>highway-L/100km</th>\n",
       "    </tr>\n",
       "  </thead>\n",
       "  <tbody>\n",
       "    <tr>\n",
       "      <th>Unnamed: 0</th>\n",
       "      <td>1.000000</td>\n",
       "      <td>-0.150130</td>\n",
       "      <td>-0.242903</td>\n",
       "      <td>0.112632</td>\n",
       "      <td>0.159326</td>\n",
       "      <td>0.036964</td>\n",
       "      <td>0.238730</td>\n",
       "      <td>0.065178</td>\n",
       "      <td>-0.047468</td>\n",
       "      <td>0.251250</td>\n",
       "      <td>-0.181350</td>\n",
       "      <td>0.142885</td>\n",
       "      <td>-0.021028</td>\n",
       "      <td>-0.199372</td>\n",
       "      <td>0.022527</td>\n",
       "      <td>0.015801</td>\n",
       "      <td>-0.118787</td>\n",
       "      <td>-0.095680</td>\n",
       "      <td>-0.075844</td>\n",
       "    </tr>\n",
       "    <tr>\n",
       "      <th>symboling</th>\n",
       "      <td>-0.150130</td>\n",
       "      <td>1.000000</td>\n",
       "      <td>0.469772</td>\n",
       "      <td>-0.529145</td>\n",
       "      <td>-0.364511</td>\n",
       "      <td>-0.237262</td>\n",
       "      <td>-0.542261</td>\n",
       "      <td>-0.234743</td>\n",
       "      <td>-0.112069</td>\n",
       "      <td>-0.145667</td>\n",
       "      <td>0.008244</td>\n",
       "      <td>-0.181073</td>\n",
       "      <td>0.074581</td>\n",
       "      <td>0.284011</td>\n",
       "      <td>-0.030158</td>\n",
       "      <td>0.041248</td>\n",
       "      <td>-0.083327</td>\n",
       "      <td>0.062423</td>\n",
       "      <td>-0.033159</td>\n",
       "    </tr>\n",
       "    <tr>\n",
       "      <th>normalized-losses</th>\n",
       "      <td>-0.242903</td>\n",
       "      <td>0.469772</td>\n",
       "      <td>1.000000</td>\n",
       "      <td>-0.057068</td>\n",
       "      <td>0.019433</td>\n",
       "      <td>0.086961</td>\n",
       "      <td>-0.377664</td>\n",
       "      <td>0.099404</td>\n",
       "      <td>0.112362</td>\n",
       "      <td>-0.029867</td>\n",
       "      <td>0.055759</td>\n",
       "      <td>-0.114738</td>\n",
       "      <td>0.217323</td>\n",
       "      <td>0.239580</td>\n",
       "      <td>-0.225255</td>\n",
       "      <td>-0.182011</td>\n",
       "      <td>0.133999</td>\n",
       "      <td>0.238712</td>\n",
       "      <td>0.181247</td>\n",
       "    </tr>\n",
       "    <tr>\n",
       "      <th>wheel-base</th>\n",
       "      <td>0.112632</td>\n",
       "      <td>-0.529145</td>\n",
       "      <td>-0.057068</td>\n",
       "      <td>1.000000</td>\n",
       "      <td>0.879005</td>\n",
       "      <td>0.814593</td>\n",
       "      <td>0.583789</td>\n",
       "      <td>0.787584</td>\n",
       "      <td>0.576779</td>\n",
       "      <td>0.501534</td>\n",
       "      <td>0.144675</td>\n",
       "      <td>0.249689</td>\n",
       "      <td>0.375732</td>\n",
       "      <td>-0.364971</td>\n",
       "      <td>-0.480029</td>\n",
       "      <td>-0.552211</td>\n",
       "      <td>0.589147</td>\n",
       "      <td>0.484047</td>\n",
       "      <td>0.584953</td>\n",
       "    </tr>\n",
       "    <tr>\n",
       "      <th>length</th>\n",
       "      <td>0.159326</td>\n",
       "      <td>-0.364511</td>\n",
       "      <td>0.019433</td>\n",
       "      <td>0.879005</td>\n",
       "      <td>1.000000</td>\n",
       "      <td>0.857271</td>\n",
       "      <td>0.492955</td>\n",
       "      <td>0.881058</td>\n",
       "      <td>0.685531</td>\n",
       "      <td>0.610817</td>\n",
       "      <td>0.120888</td>\n",
       "      <td>0.159203</td>\n",
       "      <td>0.580477</td>\n",
       "      <td>-0.286754</td>\n",
       "      <td>-0.667658</td>\n",
       "      <td>-0.700186</td>\n",
       "      <td>0.691044</td>\n",
       "      <td>0.659174</td>\n",
       "      <td>0.708466</td>\n",
       "    </tr>\n",
       "    <tr>\n",
       "      <th>width</th>\n",
       "      <td>0.036964</td>\n",
       "      <td>-0.237262</td>\n",
       "      <td>0.086961</td>\n",
       "      <td>0.814593</td>\n",
       "      <td>0.857271</td>\n",
       "      <td>1.000000</td>\n",
       "      <td>0.300995</td>\n",
       "      <td>0.867720</td>\n",
       "      <td>0.731100</td>\n",
       "      <td>0.548478</td>\n",
       "      <td>0.182855</td>\n",
       "      <td>0.189008</td>\n",
       "      <td>0.617032</td>\n",
       "      <td>-0.247388</td>\n",
       "      <td>-0.638155</td>\n",
       "      <td>-0.684700</td>\n",
       "      <td>0.752795</td>\n",
       "      <td>0.677111</td>\n",
       "      <td>0.739845</td>\n",
       "    </tr>\n",
       "    <tr>\n",
       "      <th>height</th>\n",
       "      <td>0.238730</td>\n",
       "      <td>-0.542261</td>\n",
       "      <td>-0.377664</td>\n",
       "      <td>0.583789</td>\n",
       "      <td>0.492955</td>\n",
       "      <td>0.300995</td>\n",
       "      <td>1.000000</td>\n",
       "      <td>0.310660</td>\n",
       "      <td>0.076255</td>\n",
       "      <td>0.187794</td>\n",
       "      <td>-0.081273</td>\n",
       "      <td>0.259526</td>\n",
       "      <td>-0.085725</td>\n",
       "      <td>-0.315756</td>\n",
       "      <td>-0.057087</td>\n",
       "      <td>-0.111568</td>\n",
       "      <td>0.137284</td>\n",
       "      <td>0.008923</td>\n",
       "      <td>0.088903</td>\n",
       "    </tr>\n",
       "    <tr>\n",
       "      <th>curb-weight</th>\n",
       "      <td>0.065178</td>\n",
       "      <td>-0.234743</td>\n",
       "      <td>0.099404</td>\n",
       "      <td>0.787584</td>\n",
       "      <td>0.881058</td>\n",
       "      <td>0.867720</td>\n",
       "      <td>0.310660</td>\n",
       "      <td>1.000000</td>\n",
       "      <td>0.849090</td>\n",
       "      <td>0.644532</td>\n",
       "      <td>0.168642</td>\n",
       "      <td>0.156444</td>\n",
       "      <td>0.758095</td>\n",
       "      <td>-0.279411</td>\n",
       "      <td>-0.750390</td>\n",
       "      <td>-0.795515</td>\n",
       "      <td>0.834420</td>\n",
       "      <td>0.785868</td>\n",
       "      <td>0.837217</td>\n",
       "    </tr>\n",
       "    <tr>\n",
       "      <th>engine-size</th>\n",
       "      <td>-0.047468</td>\n",
       "      <td>-0.112069</td>\n",
       "      <td>0.112362</td>\n",
       "      <td>0.576779</td>\n",
       "      <td>0.685531</td>\n",
       "      <td>0.731100</td>\n",
       "      <td>0.076255</td>\n",
       "      <td>0.849090</td>\n",
       "      <td>1.000000</td>\n",
       "      <td>0.572786</td>\n",
       "      <td>0.208004</td>\n",
       "      <td>0.029005</td>\n",
       "      <td>0.822656</td>\n",
       "      <td>-0.256702</td>\n",
       "      <td>-0.651002</td>\n",
       "      <td>-0.679877</td>\n",
       "      <td>0.872337</td>\n",
       "      <td>0.745337</td>\n",
       "      <td>0.783593</td>\n",
       "    </tr>\n",
       "    <tr>\n",
       "      <th>bore</th>\n",
       "      <td>0.251250</td>\n",
       "      <td>-0.145667</td>\n",
       "      <td>-0.029867</td>\n",
       "      <td>0.501534</td>\n",
       "      <td>0.610817</td>\n",
       "      <td>0.548478</td>\n",
       "      <td>0.187794</td>\n",
       "      <td>0.644532</td>\n",
       "      <td>0.572786</td>\n",
       "      <td>1.000000</td>\n",
       "      <td>-0.051087</td>\n",
       "      <td>0.002021</td>\n",
       "      <td>0.566690</td>\n",
       "      <td>-0.267010</td>\n",
       "      <td>-0.581365</td>\n",
       "      <td>-0.590753</td>\n",
       "      <td>0.543431</td>\n",
       "      <td>0.554069</td>\n",
       "      <td>0.558759</td>\n",
       "    </tr>\n",
       "    <tr>\n",
       "      <th>stroke</th>\n",
       "      <td>-0.181350</td>\n",
       "      <td>0.008244</td>\n",
       "      <td>0.055759</td>\n",
       "      <td>0.144675</td>\n",
       "      <td>0.120888</td>\n",
       "      <td>0.182855</td>\n",
       "      <td>-0.081273</td>\n",
       "      <td>0.168642</td>\n",
       "      <td>0.208004</td>\n",
       "      <td>-0.051087</td>\n",
       "      <td>1.000000</td>\n",
       "      <td>0.186761</td>\n",
       "      <td>0.100351</td>\n",
       "      <td>-0.066173</td>\n",
       "      <td>-0.040677</td>\n",
       "      <td>-0.040282</td>\n",
       "      <td>0.083296</td>\n",
       "      <td>0.041470</td>\n",
       "      <td>0.051148</td>\n",
       "    </tr>\n",
       "    <tr>\n",
       "      <th>compression-ratio</th>\n",
       "      <td>0.142885</td>\n",
       "      <td>-0.181073</td>\n",
       "      <td>-0.114738</td>\n",
       "      <td>0.249689</td>\n",
       "      <td>0.159203</td>\n",
       "      <td>0.189008</td>\n",
       "      <td>0.259526</td>\n",
       "      <td>0.156444</td>\n",
       "      <td>0.029005</td>\n",
       "      <td>0.002021</td>\n",
       "      <td>0.186761</td>\n",
       "      <td>1.000000</td>\n",
       "      <td>-0.214162</td>\n",
       "      <td>-0.436244</td>\n",
       "      <td>0.330897</td>\n",
       "      <td>0.267929</td>\n",
       "      <td>0.071176</td>\n",
       "      <td>-0.298898</td>\n",
       "      <td>-0.222957</td>\n",
       "    </tr>\n",
       "    <tr>\n",
       "      <th>horsepower</th>\n",
       "      <td>-0.021028</td>\n",
       "      <td>0.074581</td>\n",
       "      <td>0.217323</td>\n",
       "      <td>0.375732</td>\n",
       "      <td>0.580477</td>\n",
       "      <td>0.617032</td>\n",
       "      <td>-0.085725</td>\n",
       "      <td>0.758095</td>\n",
       "      <td>0.822656</td>\n",
       "      <td>0.566690</td>\n",
       "      <td>0.100351</td>\n",
       "      <td>-0.214162</td>\n",
       "      <td>1.000000</td>\n",
       "      <td>0.108161</td>\n",
       "      <td>-0.822397</td>\n",
       "      <td>-0.804714</td>\n",
       "      <td>0.809779</td>\n",
       "      <td>0.889584</td>\n",
       "      <td>0.840687</td>\n",
       "    </tr>\n",
       "    <tr>\n",
       "      <th>peak-rpm</th>\n",
       "      <td>-0.199372</td>\n",
       "      <td>0.284011</td>\n",
       "      <td>0.239580</td>\n",
       "      <td>-0.364971</td>\n",
       "      <td>-0.286754</td>\n",
       "      <td>-0.247388</td>\n",
       "      <td>-0.315756</td>\n",
       "      <td>-0.279411</td>\n",
       "      <td>-0.256702</td>\n",
       "      <td>-0.267010</td>\n",
       "      <td>-0.066173</td>\n",
       "      <td>-0.436244</td>\n",
       "      <td>0.108161</td>\n",
       "      <td>1.000000</td>\n",
       "      <td>-0.116308</td>\n",
       "      <td>-0.059326</td>\n",
       "      <td>-0.101519</td>\n",
       "      <td>0.116510</td>\n",
       "      <td>0.018183</td>\n",
       "    </tr>\n",
       "    <tr>\n",
       "      <th>city-mpg</th>\n",
       "      <td>0.022527</td>\n",
       "      <td>-0.030158</td>\n",
       "      <td>-0.225255</td>\n",
       "      <td>-0.480029</td>\n",
       "      <td>-0.667658</td>\n",
       "      <td>-0.638155</td>\n",
       "      <td>-0.057087</td>\n",
       "      <td>-0.750390</td>\n",
       "      <td>-0.651002</td>\n",
       "      <td>-0.581365</td>\n",
       "      <td>-0.040677</td>\n",
       "      <td>0.330897</td>\n",
       "      <td>-0.822397</td>\n",
       "      <td>-0.116308</td>\n",
       "      <td>1.000000</td>\n",
       "      <td>0.972024</td>\n",
       "      <td>-0.687186</td>\n",
       "      <td>-0.949692</td>\n",
       "      <td>-0.909113</td>\n",
       "    </tr>\n",
       "    <tr>\n",
       "      <th>highway-mpg</th>\n",
       "      <td>0.015801</td>\n",
       "      <td>0.041248</td>\n",
       "      <td>-0.182011</td>\n",
       "      <td>-0.552211</td>\n",
       "      <td>-0.700186</td>\n",
       "      <td>-0.684700</td>\n",
       "      <td>-0.111568</td>\n",
       "      <td>-0.795515</td>\n",
       "      <td>-0.679877</td>\n",
       "      <td>-0.590753</td>\n",
       "      <td>-0.040282</td>\n",
       "      <td>0.267929</td>\n",
       "      <td>-0.804714</td>\n",
       "      <td>-0.059326</td>\n",
       "      <td>0.972024</td>\n",
       "      <td>1.000000</td>\n",
       "      <td>-0.705115</td>\n",
       "      <td>-0.929940</td>\n",
       "      <td>-0.951133</td>\n",
       "    </tr>\n",
       "    <tr>\n",
       "      <th>price</th>\n",
       "      <td>-0.118787</td>\n",
       "      <td>-0.083327</td>\n",
       "      <td>0.133999</td>\n",
       "      <td>0.589147</td>\n",
       "      <td>0.691044</td>\n",
       "      <td>0.752795</td>\n",
       "      <td>0.137284</td>\n",
       "      <td>0.834420</td>\n",
       "      <td>0.872337</td>\n",
       "      <td>0.543431</td>\n",
       "      <td>0.083296</td>\n",
       "      <td>0.071176</td>\n",
       "      <td>0.809779</td>\n",
       "      <td>-0.101519</td>\n",
       "      <td>-0.687186</td>\n",
       "      <td>-0.705115</td>\n",
       "      <td>1.000000</td>\n",
       "      <td>0.790291</td>\n",
       "      <td>0.801313</td>\n",
       "    </tr>\n",
       "    <tr>\n",
       "      <th>city-L/100km</th>\n",
       "      <td>-0.095680</td>\n",
       "      <td>0.062423</td>\n",
       "      <td>0.238712</td>\n",
       "      <td>0.484047</td>\n",
       "      <td>0.659174</td>\n",
       "      <td>0.677111</td>\n",
       "      <td>0.008923</td>\n",
       "      <td>0.785868</td>\n",
       "      <td>0.745337</td>\n",
       "      <td>0.554069</td>\n",
       "      <td>0.041470</td>\n",
       "      <td>-0.298898</td>\n",
       "      <td>0.889584</td>\n",
       "      <td>0.116510</td>\n",
       "      <td>-0.949692</td>\n",
       "      <td>-0.929940</td>\n",
       "      <td>0.790291</td>\n",
       "      <td>1.000000</td>\n",
       "      <td>0.958312</td>\n",
       "    </tr>\n",
       "    <tr>\n",
       "      <th>highway-L/100km</th>\n",
       "      <td>-0.075844</td>\n",
       "      <td>-0.033159</td>\n",
       "      <td>0.181247</td>\n",
       "      <td>0.584953</td>\n",
       "      <td>0.708466</td>\n",
       "      <td>0.739845</td>\n",
       "      <td>0.088903</td>\n",
       "      <td>0.837217</td>\n",
       "      <td>0.783593</td>\n",
       "      <td>0.558759</td>\n",
       "      <td>0.051148</td>\n",
       "      <td>-0.222957</td>\n",
       "      <td>0.840687</td>\n",
       "      <td>0.018183</td>\n",
       "      <td>-0.909113</td>\n",
       "      <td>-0.951133</td>\n",
       "      <td>0.801313</td>\n",
       "      <td>0.958312</td>\n",
       "      <td>1.000000</td>\n",
       "    </tr>\n",
       "  </tbody>\n",
       "</table>\n",
       "</div>"
      ],
      "text/plain": [
       "                   Unnamed: 0  symboling  normalized-losses  wheel-base  \\\n",
       "Unnamed: 0           1.000000  -0.150130          -0.242903    0.112632   \n",
       "symboling           -0.150130   1.000000           0.469772   -0.529145   \n",
       "normalized-losses   -0.242903   0.469772           1.000000   -0.057068   \n",
       "wheel-base           0.112632  -0.529145          -0.057068    1.000000   \n",
       "length               0.159326  -0.364511           0.019433    0.879005   \n",
       "width                0.036964  -0.237262           0.086961    0.814593   \n",
       "height               0.238730  -0.542261          -0.377664    0.583789   \n",
       "curb-weight          0.065178  -0.234743           0.099404    0.787584   \n",
       "engine-size         -0.047468  -0.112069           0.112362    0.576779   \n",
       "bore                 0.251250  -0.145667          -0.029867    0.501534   \n",
       "stroke              -0.181350   0.008244           0.055759    0.144675   \n",
       "compression-ratio    0.142885  -0.181073          -0.114738    0.249689   \n",
       "horsepower          -0.021028   0.074581           0.217323    0.375732   \n",
       "peak-rpm            -0.199372   0.284011           0.239580   -0.364971   \n",
       "city-mpg             0.022527  -0.030158          -0.225255   -0.480029   \n",
       "highway-mpg          0.015801   0.041248          -0.182011   -0.552211   \n",
       "price               -0.118787  -0.083327           0.133999    0.589147   \n",
       "city-L/100km        -0.095680   0.062423           0.238712    0.484047   \n",
       "highway-L/100km     -0.075844  -0.033159           0.181247    0.584953   \n",
       "\n",
       "                     length     width    height  curb-weight  engine-size  \\\n",
       "Unnamed: 0         0.159326  0.036964  0.238730     0.065178    -0.047468   \n",
       "symboling         -0.364511 -0.237262 -0.542261    -0.234743    -0.112069   \n",
       "normalized-losses  0.019433  0.086961 -0.377664     0.099404     0.112362   \n",
       "wheel-base         0.879005  0.814593  0.583789     0.787584     0.576779   \n",
       "length             1.000000  0.857271  0.492955     0.881058     0.685531   \n",
       "width              0.857271  1.000000  0.300995     0.867720     0.731100   \n",
       "height             0.492955  0.300995  1.000000     0.310660     0.076255   \n",
       "curb-weight        0.881058  0.867720  0.310660     1.000000     0.849090   \n",
       "engine-size        0.685531  0.731100  0.076255     0.849090     1.000000   \n",
       "bore               0.610817  0.548478  0.187794     0.644532     0.572786   \n",
       "stroke             0.120888  0.182855 -0.081273     0.168642     0.208004   \n",
       "compression-ratio  0.159203  0.189008  0.259526     0.156444     0.029005   \n",
       "horsepower         0.580477  0.617032 -0.085725     0.758095     0.822656   \n",
       "peak-rpm          -0.286754 -0.247388 -0.315756    -0.279411    -0.256702   \n",
       "city-mpg          -0.667658 -0.638155 -0.057087    -0.750390    -0.651002   \n",
       "highway-mpg       -0.700186 -0.684700 -0.111568    -0.795515    -0.679877   \n",
       "price              0.691044  0.752795  0.137284     0.834420     0.872337   \n",
       "city-L/100km       0.659174  0.677111  0.008923     0.785868     0.745337   \n",
       "highway-L/100km    0.708466  0.739845  0.088903     0.837217     0.783593   \n",
       "\n",
       "                       bore    stroke  compression-ratio  horsepower  \\\n",
       "Unnamed: 0         0.251250 -0.181350           0.142885   -0.021028   \n",
       "symboling         -0.145667  0.008244          -0.181073    0.074581   \n",
       "normalized-losses -0.029867  0.055759          -0.114738    0.217323   \n",
       "wheel-base         0.501534  0.144675           0.249689    0.375732   \n",
       "length             0.610817  0.120888           0.159203    0.580477   \n",
       "width              0.548478  0.182855           0.189008    0.617032   \n",
       "height             0.187794 -0.081273           0.259526   -0.085725   \n",
       "curb-weight        0.644532  0.168642           0.156444    0.758095   \n",
       "engine-size        0.572786  0.208004           0.029005    0.822656   \n",
       "bore               1.000000 -0.051087           0.002021    0.566690   \n",
       "stroke            -0.051087  1.000000           0.186761    0.100351   \n",
       "compression-ratio  0.002021  0.186761           1.000000   -0.214162   \n",
       "horsepower         0.566690  0.100351          -0.214162    1.000000   \n",
       "peak-rpm          -0.267010 -0.066173          -0.436244    0.108161   \n",
       "city-mpg          -0.581365 -0.040677           0.330897   -0.822397   \n",
       "highway-mpg       -0.590753 -0.040282           0.267929   -0.804714   \n",
       "price              0.543431  0.083296           0.071176    0.809779   \n",
       "city-L/100km       0.554069  0.041470          -0.298898    0.889584   \n",
       "highway-L/100km    0.558759  0.051148          -0.222957    0.840687   \n",
       "\n",
       "                   peak-rpm  city-mpg  highway-mpg     price  city-L/100km  \\\n",
       "Unnamed: 0        -0.199372  0.022527     0.015801 -0.118787     -0.095680   \n",
       "symboling          0.284011 -0.030158     0.041248 -0.083327      0.062423   \n",
       "normalized-losses  0.239580 -0.225255    -0.182011  0.133999      0.238712   \n",
       "wheel-base        -0.364971 -0.480029    -0.552211  0.589147      0.484047   \n",
       "length            -0.286754 -0.667658    -0.700186  0.691044      0.659174   \n",
       "width             -0.247388 -0.638155    -0.684700  0.752795      0.677111   \n",
       "height            -0.315756 -0.057087    -0.111568  0.137284      0.008923   \n",
       "curb-weight       -0.279411 -0.750390    -0.795515  0.834420      0.785868   \n",
       "engine-size       -0.256702 -0.651002    -0.679877  0.872337      0.745337   \n",
       "bore              -0.267010 -0.581365    -0.590753  0.543431      0.554069   \n",
       "stroke            -0.066173 -0.040677    -0.040282  0.083296      0.041470   \n",
       "compression-ratio -0.436244  0.330897     0.267929  0.071176     -0.298898   \n",
       "horsepower         0.108161 -0.822397    -0.804714  0.809779      0.889584   \n",
       "peak-rpm           1.000000 -0.116308    -0.059326 -0.101519      0.116510   \n",
       "city-mpg          -0.116308  1.000000     0.972024 -0.687186     -0.949692   \n",
       "highway-mpg       -0.059326  0.972024     1.000000 -0.705115     -0.929940   \n",
       "price             -0.101519 -0.687186    -0.705115  1.000000      0.790291   \n",
       "city-L/100km       0.116510 -0.949692    -0.929940  0.790291      1.000000   \n",
       "highway-L/100km    0.018183 -0.909113    -0.951133  0.801313      0.958312   \n",
       "\n",
       "                   highway-L/100km  \n",
       "Unnamed: 0               -0.075844  \n",
       "symboling                -0.033159  \n",
       "normalized-losses         0.181247  \n",
       "wheel-base                0.584953  \n",
       "length                    0.708466  \n",
       "width                     0.739845  \n",
       "height                    0.088903  \n",
       "curb-weight               0.837217  \n",
       "engine-size               0.783593  \n",
       "bore                      0.558759  \n",
       "stroke                    0.051148  \n",
       "compression-ratio        -0.222957  \n",
       "horsepower                0.840687  \n",
       "peak-rpm                  0.018183  \n",
       "city-mpg                 -0.909113  \n",
       "highway-mpg              -0.951133  \n",
       "price                     0.801313  \n",
       "city-L/100km              0.958312  \n",
       "highway-L/100km           1.000000  "
      ]
     },
     "execution_count": 34,
     "metadata": {},
     "output_type": "execute_result"
    }
   ],
   "source": [
    "df_num.corr()"
   ]
  },
  {
   "cell_type": "markdown",
   "metadata": {},
   "source": [
    "This value can be helpful for assessing how related two variables are. But, sometimes we would like to know the significant of the correlation estimate. We might want to know what the probability is that the relationship between the two is *statistically significant*. \n",
    "\n",
    "**P-value**\n",
    "\n",
    "What is this p-value? The p-value is the probability value that the correlation between these two variables is statistically significant. \n",
    "\n",
    "Normally, we choose a significance level of 0.05, which means that we are 95% confident that the correlation between the variables is significant. Regardless of what correlation we calculate(weak, strong, etc.) we need to know how likely it is that correlation is accurate. High correlation coefficients don't necessarily guarantee high p-values. You could have a relationship with a low correlation coefficient with a high p-value and be pretty confident those two variables are not good predictors of one another. Or, you could have a relationship with a strong correlation coefficient and a low p-value and be less confident a relationship actually exists.\n",
    "\n",
    "\n",
    "Since we are using a significance level of 0.05, if\n",
    "- the p-value is $< 0.001$: we say there is strong evidence that the correlation is significant\n",
    "- the p-value is $< 0.05$: there is moderate evidence that the correlation is significant\n",
    "- the p-value is $< 0.1$: there is weak evidence that the correlation is significant\n",
    "- the p-value is $> 0.1$: there is no evidence that the correlation is significant\n",
    "\n",
    "**How do we actually use these two things?**\n",
    "\n",
    "For any two random variables, we can compute their Pearson coerrelation coefficient and the associated p-value. The Pearson correlation coefficient will tell us what relationship the two variables may have(strong positive linear, strong negative linear, weak linear, etc). Then based on the p-value, we can make a determiniation about how statistically significant that relationship is. \n",
    "\n",
    "Your conclusions will be in a similar form to: \"Since the p-value is less than or greater than ______, the correlation between variable 1 and variable 2 is ____________(from bullets above), and the linear relationship is _________ (weak, strong, somewhat strong etc./positive, negative, neither) with a correlation coefficient of ______.\" At the end of our analysis, we will be able to make some determinations about which features we think are significant and would be worth including in our model.\n",
    "\n",
    "Let's import the `stats` module from the `scipy` library. If `scipy` is not installed, you will want to use pip to add it to your environment. "
   ]
  },
  {
   "cell_type": "code",
   "execution_count": null,
   "metadata": {},
   "outputs": [],
   "source": [
    "from scipy import stats"
   ]
  },
  {
   "cell_type": "markdown",
   "metadata": {},
   "source": [
    "#### Wheel-Base vs. Price\n",
    "Let's calculate the Pearson correlation coefficient and p-value of 'wheel-base' and 'price'. Using `stats`, we can get both by with the line: `pearson_coef, p_value = stats.pearsonr(x_column, y_column)`.\n"
   ]
  },
  {
   "cell_type": "code",
   "execution_count": 44,
   "metadata": {},
   "outputs": [
    {
     "name": "stdout",
     "output_type": "stream",
     "text": [
      "0.5891470005448698 4.4570195020505774e-20\n"
     ]
    }
   ],
   "source": [
    "pearson_coef, p_value = stats.pearsonr(df['wheel-base'], df['price'])\n",
    "print(pearson_coef, p_value)"
   ]
  },
  {
   "cell_type": "markdown",
   "metadata": {},
   "source": [
    "**Conclusion**"
   ]
  },
  {
   "cell_type": "markdown",
   "metadata": {},
   "source": [
    "#### Horsepower vs. Price\n",
    "Let's calculate the  Pearson correlation coefficient and p-value of 'horsepower' and 'price'.\n"
   ]
  },
  {
   "cell_type": "code",
   "execution_count": 45,
   "metadata": {},
   "outputs": [
    {
     "name": "stdout",
     "output_type": "stream",
     "text": [
      "0.8097789763551081 9.887379251282475e-48\n"
     ]
    }
   ],
   "source": [
    "pearson_coef, p_value = stats.pearsonr(df['horsepower'], df['price'])\n",
    "print(pearson_coef, p_value)"
   ]
  },
  {
   "cell_type": "markdown",
   "metadata": {},
   "source": [
    "**Conclusion**"
   ]
  },
  {
   "cell_type": "markdown",
   "metadata": {},
   "source": [
    "#### Length vs. Price\n",
    "Let's calculate the Pearson correlation coefficient and p-value of 'length' and 'price'.\n"
   ]
  },
  {
   "cell_type": "code",
   "execution_count": 46,
   "metadata": {},
   "outputs": [
    {
     "name": "stdout",
     "output_type": "stream",
     "text": [
      "0.6910440897821901 9.960963222349014e-30\n"
     ]
    }
   ],
   "source": [
    "pearson_coef, p_value = stats.pearsonr(df['length'], df['price'])\n",
    "print(pearson_coef, p_value)"
   ]
  },
  {
   "cell_type": "markdown",
   "metadata": {},
   "source": [
    "**Conclusion**"
   ]
  },
  {
   "cell_type": "markdown",
   "metadata": {},
   "source": [
    "#### Width vs. Price\n",
    "Let's calculate the Pearson correlation coefficient and p-value of 'width' and 'price'.\n"
   ]
  },
  {
   "cell_type": "code",
   "execution_count": 47,
   "metadata": {},
   "outputs": [
    {
     "name": "stdout",
     "output_type": "stream",
     "text": [
      "0.7527948631832618 8.25671414830556e-38\n"
     ]
    }
   ],
   "source": [
    "pearson_coef, p_value = stats.pearsonr(df['width'], df['price'])\n",
    "print(pearson_coef, p_value)"
   ]
  },
  {
   "cell_type": "markdown",
   "metadata": {},
   "source": [
    "**Conclusion**"
   ]
  },
  {
   "cell_type": "markdown",
   "metadata": {},
   "source": [
    "#### Curb-weight vs. Price\n",
    "Let's calculate the Pearson correlation coefficient and p-value of 'curb-weigth' and 'price'.\n"
   ]
  },
  {
   "cell_type": "code",
   "execution_count": 48,
   "metadata": {},
   "outputs": [
    {
     "name": "stdout",
     "output_type": "stream",
     "text": [
      "0.8344204348498457 3.9699775360228525e-53\n"
     ]
    }
   ],
   "source": [
    "pearson_coef, p_value = stats.pearsonr(df['curb-weight'], df['price'])\n",
    "print(pearson_coef, p_value)"
   ]
  },
  {
   "cell_type": "markdown",
   "metadata": {},
   "source": [
    "**Conclusion**"
   ]
  },
  {
   "cell_type": "markdown",
   "metadata": {},
   "source": [
    "#### Engine-size vs. Price\n",
    "Let's calculate the Pearson correlation coefficient and p-value of 'engine-size' and 'price'.\n"
   ]
  },
  {
   "cell_type": "code",
   "execution_count": 49,
   "metadata": {},
   "outputs": [
    {
     "name": "stdout",
     "output_type": "stream",
     "text": [
      "0.8723367498521144 1.8977171466558913e-63\n"
     ]
    }
   ],
   "source": [
    "pearson_coef, p_value = stats.pearsonr(df['engine-size'], df['price'])\n",
    "print(pearson_coef, p_value)"
   ]
  },
  {
   "cell_type": "markdown",
   "metadata": {},
   "source": [
    "**Conclusion**"
   ]
  },
  {
   "cell_type": "markdown",
   "metadata": {},
   "source": [
    "#### Bore vs. Price\n",
    "Let's calculate the Pearson correlation coefficient and p-value of 'bore' and 'price'.\n"
   ]
  },
  {
   "cell_type": "code",
   "execution_count": 50,
   "metadata": {},
   "outputs": [
    {
     "name": "stdout",
     "output_type": "stream",
     "text": [
      "0.5434310033088071 9.209749630851605e-17\n"
     ]
    }
   ],
   "source": [
    "pearson_coef, p_value = stats.pearsonr(df['bore'], df['price'])\n",
    "print(pearson_coef, p_value)"
   ]
  },
  {
   "cell_type": "markdown",
   "metadata": {},
   "source": [
    "**Conclusion**"
   ]
  },
  {
   "cell_type": "markdown",
   "metadata": {},
   "source": [
    "#### City MPG vs. Price\n",
    "Let's calculate the Pearson correlation coefficient and p-value of 'city-mpg' and 'price'."
   ]
  },
  {
   "cell_type": "code",
   "execution_count": 51,
   "metadata": {},
   "outputs": [
    {
     "name": "stdout",
     "output_type": "stream",
     "text": [
      "-0.6871861020862692 2.729256568478666e-29\n"
     ]
    }
   ],
   "source": [
    "pearson_coef, p_value = stats.pearsonr(df['city-mpg'], df['price'])\n",
    "print(pearson_coef, p_value)"
   ]
  },
  {
   "cell_type": "markdown",
   "metadata": {},
   "source": [
    "**Conclusion**"
   ]
  },
  {
   "cell_type": "markdown",
   "metadata": {},
   "source": [
    "#### Highway MPG vs. Price\n",
    "Let's calculate the Pearson correlation coefficient and p-value of 'highway-mpg' and 'price'.\n"
   ]
  },
  {
   "cell_type": "code",
   "execution_count": 52,
   "metadata": {},
   "outputs": [
    {
     "name": "stdout",
     "output_type": "stream",
     "text": [
      "-0.7051147088046408 2.1973260531580844e-31\n"
     ]
    }
   ],
   "source": [
    "pearson_coef, p_value = stats.pearsonr(df['highway-mpg'], df['price'])\n",
    "print(pearson_coef, p_value)"
   ]
  },
  {
   "cell_type": "markdown",
   "metadata": {},
   "source": [
    "**Conclusion**"
   ]
  },
  {
   "cell_type": "markdown",
   "metadata": {},
   "source": [
    "### ANOVA: Analysis of Variance\n",
    "The Analysis of Variance  (ANOVA) is a statistical method used to test whether there are significant differences between the means of two or more groups. ANOVA returns two parameters:\n",
    "- **F-test score**: ANOVA assumes the means of all groups are the same, calculates how much the actual means deviate from the assumption, and reports it as the F-test score. A larger score means there is a larger difference between the means.\n",
    "- **P-value<**:  P-value tells how statistically significant our calculated score value is.\n",
    "\n",
    "If our price variable is strongly correlated with the variable we are analyzing, we expect ANOVA to return a sizeable F-test score and a small p-value.\n",
    "\n",
    "#### Drive Wheels\n",
    "From our boxplots earlier, we still aren't sure whether drive wheel type is a good predictor of vehicle price. This is a great time for us to use ANOVA!\n",
    "\n",
    "Since ANOVA analyzes the difference between different groups of the same variable, the groupby function will come in handy. Because the ANOVA algorithm averages the data automatically, we do not need to take the average before hand.\n",
    "\n",
    "To see if different types of 'drive-wheels' impact 'price', we group the data. If we get the 'drive-wheels' and 'price' columns from the dataframe and then use `.groupby(['drive-wheels])`, it will return a grouping of our data by 'drive-wheel'. Let's save it as a variable `gp_dw`."
   ]
  },
  {
   "cell_type": "code",
   "execution_count": 57,
   "metadata": {},
   "outputs": [
    {
     "name": "stdout",
     "output_type": "stream",
     "text": [
      "<pandas.core.groupby.generic.DataFrameGroupBy object at 0x7ab806312a20>\n"
     ]
    }
   ],
   "source": [
    "\n",
    "gp_dw = df[['drive-wheels', 'price']].groupby(['drive-wheels'])\n",
    "print(gp_dw)"
   ]
  },
  {
   "cell_type": "markdown",
   "metadata": {},
   "source": [
    "Then we can get the prive value for a specific \"drive-wheel\" category with the `get_group()` method. If we wanted to know the 'price' of all 4wd vehicles we could  use `.get_group('4wd')` on `gp_dw`."
   ]
  },
  {
   "cell_type": "code",
   "execution_count": 58,
   "metadata": {},
   "outputs": [
    {
     "data": {
      "text/html": [
       "<div>\n",
       "<style scoped>\n",
       "    .dataframe tbody tr th:only-of-type {\n",
       "        vertical-align: middle;\n",
       "    }\n",
       "\n",
       "    .dataframe tbody tr th {\n",
       "        vertical-align: top;\n",
       "    }\n",
       "\n",
       "    .dataframe thead th {\n",
       "        text-align: right;\n",
       "    }\n",
       "</style>\n",
       "<table border=\"1\" class=\"dataframe\">\n",
       "  <thead>\n",
       "    <tr style=\"text-align: right;\">\n",
       "      <th></th>\n",
       "      <th>drive-wheels</th>\n",
       "      <th>price</th>\n",
       "    </tr>\n",
       "  </thead>\n",
       "  <tbody>\n",
       "    <tr>\n",
       "      <th>3</th>\n",
       "      <td>4wd</td>\n",
       "      <td>17450</td>\n",
       "    </tr>\n",
       "    <tr>\n",
       "      <th>135</th>\n",
       "      <td>4wd</td>\n",
       "      <td>7603</td>\n",
       "    </tr>\n",
       "    <tr>\n",
       "      <th>139</th>\n",
       "      <td>4wd</td>\n",
       "      <td>9233</td>\n",
       "    </tr>\n",
       "    <tr>\n",
       "      <th>140</th>\n",
       "      <td>4wd</td>\n",
       "      <td>11259</td>\n",
       "    </tr>\n",
       "    <tr>\n",
       "      <th>143</th>\n",
       "      <td>4wd</td>\n",
       "      <td>8013</td>\n",
       "    </tr>\n",
       "    <tr>\n",
       "      <th>144</th>\n",
       "      <td>4wd</td>\n",
       "      <td>11694</td>\n",
       "    </tr>\n",
       "    <tr>\n",
       "      <th>149</th>\n",
       "      <td>4wd</td>\n",
       "      <td>7898</td>\n",
       "    </tr>\n",
       "    <tr>\n",
       "      <th>150</th>\n",
       "      <td>4wd</td>\n",
       "      <td>8778</td>\n",
       "    </tr>\n",
       "  </tbody>\n",
       "</table>\n",
       "</div>"
      ],
      "text/plain": [
       "    drive-wheels  price\n",
       "3            4wd  17450\n",
       "135          4wd   7603\n",
       "139          4wd   9233\n",
       "140          4wd  11259\n",
       "143          4wd   8013\n",
       "144          4wd  11694\n",
       "149          4wd   7898\n",
       "150          4wd   8778"
      ]
     },
     "execution_count": 58,
     "metadata": {},
     "output_type": "execute_result"
    }
   ],
   "source": [
    "gp_dw.get_group('4wd')"
   ]
  },
  {
   "cell_type": "markdown",
   "metadata": {},
   "source": [
    "Let's use ANOVA to see if there is a relationship between 'price' and 'fwd', 'rwd', or '4wd'. We can use the `stats` function `f_oneway()` to obtain the **F-test score** and **p-value**. To use it `f_val, p_val = stats.f_oneway(...)` with each group we want to analyze passed in as parameters(by getting the `['price']` column of each row in the group using the `get_group()` function from the last cell). "
   ]
  },
  {
   "cell_type": "code",
   "execution_count": 67,
   "metadata": {},
   "outputs": [
    {
     "name": "stdout",
     "output_type": "stream",
     "text": [
      "F-test score: 68.49603532807176\n",
      "p-value: 2.6116313994533863e-23\n"
     ]
    }
   ],
   "source": [
    "price_fwd = gp_dw.get_group('fwd')['price']\n",
    "price_rwd = gp_dw.get_group('rwd')['price']\n",
    "price_4wd = gp_dw.get_group('4wd')['price']\n",
    "f_val, p_val = stats.f_oneway(price_fwd, price_rwd, price_4wd)\n",
    "print(f'F-test score: {f_val}\\np-value: {p_val}')"
   ]
  },
  {
   "cell_type": "markdown",
   "metadata": {},
   "source": [
    "This is a great result with a large F-test score showing a strong correlation and a P-value of almost 0 implying almost certain statistical significance. But does this mean all three tested groups are all this highly correlated?\n",
    "\n",
    "Let's examine them separately.\n",
    "\n",
    "#### fwd and rwd\n",
    "Run the same test with only 'fwd' and 'rwd'"
   ]
  },
  {
   "cell_type": "code",
   "execution_count": 68,
   "metadata": {},
   "outputs": [
    {
     "name": "stdout",
     "output_type": "stream",
     "text": [
      "F-test score: 131.59324661179534\n",
      "p-value: 1.7388247444783448e-23\n"
     ]
    }
   ],
   "source": [
    "price_fwd = gp_dw.get_group('fwd')['price']\n",
    "price_rwd = gp_dw.get_group('rwd')['price']\n",
    "f_val, p_val = stats.f_oneway(price_fwd, price_rwd)\n",
    "print(f'F-test score: {f_val}\\np-value: {p_val}')"
   ]
  },
  {
   "cell_type": "markdown",
   "metadata": {},
   "source": [
    "\n",
    "#### 4wd and rwd"
   ]
  },
  {
   "cell_type": "code",
   "execution_count": 69,
   "metadata": {},
   "outputs": [
    {
     "name": "stdout",
     "output_type": "stream",
     "text": [
      "F-test score: 8.67069478113451\n",
      "p-value: 0.004232262975461328\n"
     ]
    }
   ],
   "source": [
    "price_rwd = gp_dw.get_group('rwd')['price']\n",
    "price_4wd = gp_dw.get_group('4wd')['price']\n",
    "f_val, p_val = stats.f_oneway(price_rwd, price_4wd)\n",
    "print(f'F-test score: {f_val}\\np-value: {p_val}')"
   ]
  },
  {
   "cell_type": "markdown",
   "metadata": {},
   "source": [
    "#### 4wd and fwd\n"
   ]
  },
  {
   "cell_type": "code",
   "execution_count": 70,
   "metadata": {},
   "outputs": [
    {
     "name": "stdout",
     "output_type": "stream",
     "text": [
      "F-test score: 0.6654657502523033\n",
      "p-value: 0.41620116697845666\n"
     ]
    }
   ],
   "source": [
    "price_fwd = gp_dw.get_group('fwd')['price']\n",
    "price_4wd = gp_dw.get_group('4wd')['price']\n",
    "f_val, p_val = stats.f_oneway(price_fwd, price_4wd)\n",
    "print(f'F-test score: {f_val}\\np-value: {p_val}')"
   ]
  },
  {
   "cell_type": "markdown",
   "metadata": {},
   "source": [
    "We notice that ANOVA for the categories `4wd` and `fwd` yields a high p-value $> 0.1$, so the calculated F-test score is not very statistically significant. This suggests we can't reject the assumption that the means of these two groups are the same, or, in other words, we can't conclude the difference in correlation to be significant.\n"
   ]
  },
  {
   "cell_type": "markdown",
   "metadata": {},
   "source": [
    "## Conclusion: Important Variables\n",
    "We now have a better idea of what our data looks like and which variables are important to take into account when predicting the car price. We have narrowed it down to the following variables:\n",
    "\n",
    "Continuous numerical variables:\n",
    "- Length\n",
    "- Width\n",
    "- Curb-weight\n",
    "- Engine-size\n",
    "- Horsepower\n",
    "- City-mpg\n",
    "- Highway-mpg\n",
    "- Wheel-base\n",
    "- Bore\n",
    "\n",
    "Categorical variables:\n",
    "- Drive-wheels\n",
    "\n",
    "As we now move into building machine learning models to automate our analysis, feeding the model with variables that meaningfully affect our target variable will improve our model's prediction performance.\n",
    "\n",
    "\n",
    "\n",
    "## Export your file\n",
    "To move to the model building of next lab, we need to save our dataframe in a new file. Use the function `df.to_csv(file_name)` to save your dataframe to a new csv.\n"
   ]
  },
  {
   "cell_type": "code",
   "execution_count": 71,
   "metadata": {},
   "outputs": [],
   "source": [
    "df.to_csv('AutomobilePart2.csv')"
   ]
  }
 ],
 "metadata": {
  "kernelspec": {
   "display_name": "Python 3",
   "language": "python",
   "name": "python3"
  },
  "language_info": {
   "codemirror_mode": {
    "name": "ipython",
    "version": 3
   },
   "file_extension": ".py",
   "mimetype": "text/x-python",
   "name": "python",
   "nbconvert_exporter": "python",
   "pygments_lexer": "ipython3",
   "version": "3.12.3"
  }
 },
 "nbformat": 4,
 "nbformat_minor": 2
}
